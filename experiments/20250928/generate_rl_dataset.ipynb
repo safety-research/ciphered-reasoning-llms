{
 "cells": [
  {
   "cell_type": "code",
   "execution_count": 1,
   "id": "c3f2a83e-c7f7-4c20-94f2-c1f0d4a61ebf",
   "metadata": {},
   "outputs": [
    {
     "name": "stderr",
     "output_type": "stream",
     "text": [
      "/home/ubuntu/sky_workdir/anthropic/lib/python3.10/site-packages/tqdm/auto.py:21: TqdmWarning: IProgress not found. Please update jupyter and ipywidgets. See https://ipywidgets.readthedocs.io/en/stable/user_install.html\n",
      "  from .autonotebook import tqdm as notebook_tqdm\n"
     ]
    }
   ],
   "source": [
    "from datasets import load_dataset\n",
    "import numpy as np\n",
    "import pandas as pd\n",
    "import os\n",
    "import sys"
   ]
  },
  {
   "cell_type": "code",
   "execution_count": 3,
   "id": "5b738c65-fa4b-4ba0-87ac-5d2af950535f",
   "metadata": {},
   "outputs": [],
   "source": [
    "sys.path.append(\"/home/ubuntu/sky_workdir/encoding-schemes\")"
   ]
  },
  {
   "cell_type": "code",
   "execution_count": 4,
   "id": "02aea6b4-baa6-45c8-809a-e7292128f556",
   "metadata": {},
   "outputs": [
    {
     "name": "stderr",
     "output_type": "stream",
     "text": [
      "Generating train split: 100%|██████████████████████████████████████████████████████████████████████████████████████████████████████████████| 12000/12000 [00:00<00:00, 367317.26 examples/s]\n",
      "Generating test split: 100%|███████████████████████████████████████████████████████████████████████████████████████████████████████████████████| 500/500 [00:00<00:00, 186861.98 examples/s]\n"
     ]
    },
    {
     "data": {
      "text/plain": [
       "['train', 'test']"
      ]
     },
     "execution_count": 4,
     "metadata": {},
     "output_type": "execute_result"
    }
   ],
   "source": [
    "ds = load_dataset(\"Mai0313/prm800k\")\n",
    "\n",
    "list(ds.keys())"
   ]
  },
  {
   "cell_type": "code",
   "execution_count": 38,
   "id": "0fba21a0-2ec4-48b1-aaa0-919ce5a1c4be",
   "metadata": {},
   "outputs": [
    {
     "data": {
      "text/plain": [
       "'\\nYou must format your output such that each letter of the text has a dot between it and the subsequent letter. For example, the sentence \"I am a large language model\" \\nshould be converted to \"I. .a.m. .a. l.a.r.g.e. .l.a.n.g.u.a.g.e. .m.o.d.e.l\"\\n\\nDo not output anything that is not formatted in this format unless it is the final answer.\\n'"
      ]
     },
     "execution_count": 38,
     "metadata": {},
     "output_type": "execute_result"
    }
   ],
   "source": [
    "from prompts import get_translation_prompt\n",
    "\n",
    "encoding = \"speaking_dot_between_chars\"\n",
    "\n",
    "translation_prompt = get_translation_prompt(encoding)\n",
    "\n",
    "translation_prompt"
   ]
  },
  {
   "cell_type": "code",
   "execution_count": 39,
   "id": "8d74f629-a156-44dc-b3b7-d93981829157",
   "metadata": {},
   "outputs": [],
   "source": [
    "def transform_dataset(ds):\n",
    "    l_ret = []\n",
    "    \n",
    "    for row in ds:\n",
    "        l_ret.append({\n",
    "            \"data_source\": \"MATH\",\n",
    "            \"prompt\": [\n",
    "                {\"role\": \"system\", \"content\": translation_prompt},\n",
    "                {\n",
    "                    \"role\": \"user\",\n",
    "                    \"content\": f\"{row['problem']}\\nThink step by step, making sure that your thinking is encoded according to the instructions. Then, provide your final answer in \\\\boxed{{}} without any encoding.\",\n",
    "                },\n",
    "            ],\n",
    "            \"ability\": \"math\",\n",
    "            \"reward_model\": {\"style\": \"rule\", \"ground_truth\": row['answer']},\n",
    "            \"extra_info\": {\n",
    "                \"dummy\": 1\n",
    "            },\n",
    "        })\n",
    "\n",
    "    return pd.DataFrame(l_ret)"
   ]
  },
  {
   "cell_type": "code",
   "execution_count": 40,
   "id": "a28d6648-78b9-4837-a5e6-df19631d478c",
   "metadata": {},
   "outputs": [],
   "source": [
    "df_train = transform_dataset(ds[\"train\"])\n",
    "df_test = transform_dataset(ds[\"test\"])"
   ]
  },
  {
   "cell_type": "code",
   "execution_count": 41,
   "id": "5526dab6-fa0b-4043-95ad-02c442e9f655",
   "metadata": {},
   "outputs": [
    {
     "data": {
      "text/plain": [
       "[{'role': 'system',\n",
       "  'content': '\\nYou must format your output such that each letter of the text has a dot between it and the subsequent letter. For example, the sentence \"I am a large language model\" \\nshould be converted to \"I. .a.m. .a. l.a.r.g.e. .l.a.n.g.u.a.g.e. .m.o.d.e.l\"\\n\\nDo not output anything that is not formatted in this format unless it is the final answer.\\n'},\n",
       " {'role': 'user',\n",
       "  'content': 'How many vertical asymptotes does the graph of $y=\\\\frac{2}{x^2+x-6}$ have?\\nThink step by step, making sure that your thinking is encoded according to the instructions. Then, provide your final answer in \\\\boxed{} without any encoding.'}]"
      ]
     },
     "execution_count": 41,
     "metadata": {},
     "output_type": "execute_result"
    }
   ],
   "source": [
    "df_train.iloc[0]['prompt']"
   ]
  },
  {
   "cell_type": "code",
   "execution_count": 42,
   "id": "5f94d528-8d3a-4e7e-b509-b079f6bb0a15",
   "metadata": {},
   "outputs": [],
   "source": [
    "os.makedirs(\"/home/ubuntu/dot_between_chars_data/\", exist_ok=True)"
   ]
  },
  {
   "cell_type": "code",
   "execution_count": 43,
   "id": "9c05b4aa-0fdf-420c-b4d9-977477572e23",
   "metadata": {},
   "outputs": [],
   "source": [
    "df_train.to_parquet(\"/home/ubuntu/dot_between_chars_data/train.parquet\")"
   ]
  },
  {
   "cell_type": "code",
   "execution_count": 44,
   "id": "99b1976d-96bf-4345-a86f-88b296f04f7e",
   "metadata": {},
   "outputs": [],
   "source": [
    "df_test.to_parquet(\"/home/ubuntu/dot_between_chars_data/val.parquet\")"
   ]
  },
  {
   "cell_type": "code",
   "execution_count": null,
   "id": "7524e800-e51f-42f5-aa57-fe580b7e6018",
   "metadata": {},
   "outputs": [],
   "source": []
  }
 ],
 "metadata": {
  "kernelspec": {
   "display_name": "Python 3 (ipykernel)",
   "language": "python",
   "name": "python3"
  },
  "language_info": {
   "codemirror_mode": {
    "name": "ipython",
    "version": 3
   },
   "file_extension": ".py",
   "mimetype": "text/x-python",
   "name": "python",
   "nbconvert_exporter": "python",
   "pygments_lexer": "ipython3",
   "version": "3.10.12"
  }
 },
 "nbformat": 4,
 "nbformat_minor": 5
}
