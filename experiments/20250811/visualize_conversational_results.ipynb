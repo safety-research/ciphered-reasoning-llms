{
 "cells": [
  {
   "cell_type": "code",
   "execution_count": null,
   "id": "c34d0a44-0aae-4a22-9ea2-552f1efd9af9",
   "metadata": {},
   "outputs": [],
   "source": [
    "import plotly.express as px\n",
    "import numpy as np"
   ]
  },
  {
   "cell_type": "code",
   "execution_count": null,
   "id": "15e8ad9e-91d3-4e3b-b25c-9f19f3e4b7bd",
   "metadata": {},
   "outputs": [],
   "source": [
    "import os\n",
    "import psycopg2\n",
    "import json\n",
    "\n",
    "conn_string = os.environ[\"SUPABASE_CONNECTION_URL\"]\n",
    "\n",
    "conn = psycopg2.connect(conn_string)\n",
    "\n",
    "import pandas as pd"
   ]
  },
  {
   "cell_type": "code",
   "execution_count": null,
   "id": "138b3a2c-ade1-42ca-a798-5b94232485d5",
   "metadata": {},
   "outputs": [],
   "source": [
    "# df = pd.read_sql(\"SELECT * FROM public.encoding_schemes WHERE (data->'experiment_tags'->'sft')::boolean\", conn)\n",
    "df = pd.read_sql(\"\"\"\n",
    "SELECT * FROM public.encoding_schemes \n",
    "    WHERE \n",
    "    (data->'experiment_name')::TEXT LIKE '%conversational_%'\n",
    "    AND (data->'experiment_params'->'dataset')::TEXT LIKE '%lmsys_chat_1m_1_turn_english_subset%'\n",
    "ORDER BY created_at DESC\n",
    "\"\"\", conn)\n",
    "\n",
    "df.head()"
   ]
  },
  {
   "cell_type": "code",
   "execution_count": null,
   "id": "68e2fc7e-abc9-4559-b5bd-a8b11c34461e",
   "metadata": {},
   "outputs": [],
   "source": [
    "df['data'].iloc[0]"
   ]
  },
  {
   "cell_type": "code",
   "execution_count": null,
   "id": "b439f59a-7755-482d-ac55-c324ac5bed54",
   "metadata": {},
   "outputs": [],
   "source": [
    "root_dir = \"~/sky_workdir/encoding-schemes/output\""
   ]
  },
  {
   "cell_type": "code",
   "execution_count": null,
   "id": "b5d72f27-7ec8-4ffd-b530-f2b0b27cefab",
   "metadata": {
    "scrolled": true
   },
   "outputs": [],
   "source": [
    "l_examples = df.to_dict('records')\n",
    "\n",
    "l_examples[:5]"
   ]
  },
  {
   "cell_type": "code",
   "execution_count": null,
   "id": "2f8a81ec-f561-430e-8570-c9d4a2a0f18d",
   "metadata": {},
   "outputs": [],
   "source": [
    "\n",
    "def bootstrap_ci(data, statistic=np.mean, alpha=0.05, n_boot=10_000, random_state=None):\n",
    "    \"\"\"\n",
    "    Returns (point_estimate, low_CI, high_CI) for given 1D data.\n",
    "    Works with bool, int, or float data.\n",
    "    \"\"\"\n",
    "    x = np.asarray(data).astype(float)  # ensure numeric\n",
    "    x = x[~np.isnan(x)]\n",
    "    if len(x) == 0:\n",
    "        raise ValueError(\"No valid data for bootstrapping.\")\n",
    "\n",
    "    rng = np.random.default_rng(random_state)\n",
    "    n = len(x)\n",
    "\n",
    "    # Draw bootstrap samples\n",
    "    idx = rng.integers(0, n, size=(n_boot, n))\n",
    "    samples = x[idx]\n",
    "\n",
    "    # Apply statistic row-wise\n",
    "    stats = np.apply_along_axis(statistic, 1, samples)\n",
    "\n",
    "    point = statistic(x)\n",
    "    lo = np.percentile(stats, 100 * (alpha / 2))\n",
    "    hi = np.percentile(stats, 100 * (1 - alpha / 2))\n",
    "    return point, lo, hi"
   ]
  },
  {
   "cell_type": "code",
   "execution_count": null,
   "id": "73907c00-ce16-4bce-b6e9-14d9bb68e0c3",
   "metadata": {},
   "outputs": [],
   "source": [
    "\n",
    "for example in l_examples:\n",
    "    df_sft_data = pd.read_parquet(os.path.join(root_dir, example['experiment_hash'], \"data\", \"sft.parquet\"))\n",
    "    df_prompted_cot = pd.read_parquet(os.path.join(root_dir, example['experiment_hash'], \"data\", \"prompted_chat.parquet\"))\n",
    "\n",
    "    example['english_coherence_scores'] = df_prompted_cot['english_coherence_scores'].apply(np.mean).mean()\n",
    "    mid, lo, hi = bootstrap_ci(df_prompted_cot['english_coherence_scores'].apply(np.mean))\n",
    "    example['english_coherence_scores_low_ci'] = mid - lo\n",
    "    example['english_coherence_scores_hi_ci'] = hi - mid\n",
    "\n",
    "    ppls = [-np.sum(logprobs) for logprobs in df_prompted_cot['gt_logprobs']]\n",
    "    example['ppls'] = np.array(ppls)\n",
    "    \n",
    "    example['followed_encoding_style'] = df_prompted_cot['followed_encoding_style'].apply(np.mean).mean()\n",
    "    mid, lo, hi = bootstrap_ci(df_prompted_cot['followed_encoding_style'].apply(np.mean))\n",
    "    example['followed_encoding_style_low_ci'] = mid - lo\n",
    "    example['followed_encoding_style_hi_ci'] = hi - mid\n",
    "\n",
    "    l_coherent_and_formatted = []\n",
    "    for i in range(len(df_prompted_cot)):\n",
    "        l_coherent_and_formatted.append(\n",
    "            (\n",
    "                df_prompted_cot['english_coherence_scores'].iloc[i].astype(bool) & \\\n",
    "                df_prompted_cot['followed_encoding_style'].iloc[i].astype(bool)\n",
    "            ).mean()\n",
    "        )\n",
    "    example['coherent_and_formatted'] = np.mean(l_coherent_and_formatted)\n",
    "    mid, lo, hi = bootstrap_ci(l_coherent_and_formatted)\n",
    "    example['coherent_and_formatted_low_ci'] = mid - lo\n",
    "    example['coherent_and_formatted_hi_ci'] = hi - mid\n",
    "    \n",
    "    example['reference_translation'] = df_sft_data['messages'].map(lambda x: x[-1]['content'])\n",
    "\n",
    "    for col in df_prompted_cot.columns:\n",
    "        example[f\"{col}_df\"] = df_prompted_cot[col]"
   ]
  },
  {
   "cell_type": "code",
   "execution_count": null,
   "id": "9535167c-564e-4e1a-80c1-323f1a8eb1bc",
   "metadata": {},
   "outputs": [],
   "source": [
    "df_prompted_cot.head()"
   ]
  },
  {
   "cell_type": "code",
   "execution_count": null,
   "id": "8d7c8aa3-b7b1-48a7-b0fc-c8811fe9a69b",
   "metadata": {},
   "outputs": [],
   "source": [
    "import re\n",
    "\n",
    "def parse_params(model):\n",
    "    return int(re.search(\"([0-9]+)B\", model).group(1))"
   ]
  },
  {
   "cell_type": "code",
   "execution_count": null,
   "id": "4a412a1f-de17-4d22-b798-12ea8ce0db67",
   "metadata": {},
   "outputs": [],
   "source": [
    "df_viz = pd.DataFrame(l_examples)\n",
    "\n",
    "df_viz['encoding_scheme'] = df_viz['data'].map(lambda x: x['experiment_params']['encoding_scheme'])\n",
    "df_viz['model'] = df_viz['data'].map(lambda x: x['experiment_params']['model'])\n",
    "df_viz['model_size'] = df_viz['model'].map(parse_params)\n",
    "df_viz['input_type'] = df_viz['data'].map(lambda x: \"_\".join(x['experiment_name'].split(\"_\")[:2]))\n",
    "\n",
    "df_viz['n_few_shot_examples'] = df_viz['data'].map(lambda x: x['experiment_params'].get('n_few_shot_examples', None))\n",
    "\n",
    "df_viz.head()"
   ]
  },
  {
   "cell_type": "code",
   "execution_count": null,
   "id": "473e5743-c0d6-4962-8338-298a26dec194",
   "metadata": {},
   "outputs": [],
   "source": [
    "df_viz[(df_viz['model_size'] == 32) & (df_viz['encoding_scheme'] == 'speaking_letter_to_word_with_dot')]['reference_translation'].iloc[0][0]"
   ]
  },
  {
   "cell_type": "code",
   "execution_count": null,
   "id": "3f557a0d-1497-4375-8f80-1654b2f44a13",
   "metadata": {
    "scrolled": true
   },
   "outputs": [],
   "source": [
    "df_viz[(df_viz['model_size'] == 32) & (df_viz['encoding_scheme'] == 'speaking_letter_to_word_with_dot')]['decoded_response_df'].iloc[0][0][0]"
   ]
  },
  {
   "cell_type": "code",
   "execution_count": null,
   "id": "ea4d3343-931b-4ccc-a88a-96fcffc81b73",
   "metadata": {},
   "outputs": [],
   "source": [
    "df_viz['input_type'].unique()"
   ]
  },
  {
   "cell_type": "code",
   "execution_count": null,
   "id": "8ab556b1-e259-4e5f-86cb-2bccbab377bd",
   "metadata": {},
   "outputs": [],
   "source": [
    "df_viz_tmp = df_viz[df_viz['input_type'] == 'conversational_sft']\n",
    "\n",
    "df_viz_tmp = df_viz_tmp.sort_values([\n",
    "    'model_size',\n",
    "    'encoding_scheme', \n",
    "    'n_few_shot_examples'\n",
    "])\n",
    "\n",
    "fig = px.bar(df_viz_tmp, x='encoding_scheme', y='english_coherence_scores',\n",
    "             height=600, width=1600,\n",
    "             color='model',\n",
    "             error_y='english_coherence_scores_hi_ci',\n",
    "             error_y_minus='english_coherence_scores_low_ci',\n",
    "             # color='n_few_shot_examples',\n",
    "             # facet_row='model',\n",
    "             title=\"Coherence of decoded output, SFT<br><sup>Coherence determined by decoding encoded output to English and then prompting Qwen3 235B to judge if the result is coherent English.\",\n",
    "             barmode=\"group\"\n",
    "            )\n",
    "\n",
    "fig.update_yaxes(title=\"% coherent English\", dtick=0.05)\n",
    "\n",
    "fig.show()"
   ]
  },
  {
   "cell_type": "code",
   "execution_count": null,
   "id": "5559e93b-ed7e-473a-b1e1-e40b2d723072",
   "metadata": {},
   "outputs": [],
   "source": [
    "df_viz_tmp = df_viz[df_viz['input_type'] == 'conversational_sft']\n",
    "\n",
    "df_viz_tmp = df_viz_tmp.sort_values([\n",
    "    'model_size',\n",
    "    'encoding_scheme', \n",
    "    'n_few_shot_examples'\n",
    "])\n",
    "\n",
    "fig = px.bar(df_viz_tmp, x='encoding_scheme', y='followed_encoding_style',\n",
    "             height=600, width=1600,\n",
    "             color='model',\n",
    "             error_y='followed_encoding_style_hi_ci',\n",
    "             error_y_minus='followed_encoding_style_low_ci',\n",
    "             # color='n_few_shot_examples',\n",
    "             # facet_row='model',\n",
    "             title=\"Encoding style adherence, SFT<br><sup>Adherence determined by prompting Qwen3 235B to compare the model's output to the reference encoded reasoning.\",\n",
    "             barmode=\"group\"\n",
    "            )\n",
    "\n",
    "fig.update_yaxes(title=\"% adherent encodings\", dtick=0.05)\n",
    "\n",
    "fig.show()"
   ]
  },
  {
   "cell_type": "code",
   "execution_count": null,
   "id": "9dc8e475-2c37-4107-8355-9e94e5462a7a",
   "metadata": {},
   "outputs": [],
   "source": [
    "df_viz_tmp = df_viz[df_viz['input_type'] == 'conversational_sft']\n",
    "\n",
    "df_viz_tmp = df_viz_tmp.sort_values([\n",
    "    'model_size',\n",
    "    'encoding_scheme', \n",
    "    'n_few_shot_examples'\n",
    "])\n",
    "\n",
    "fig = px.bar(df_viz_tmp, x='encoding_scheme', y='coherent_and_formatted',\n",
    "             height=600, width=1600,\n",
    "             color='model',\n",
    "             error_y='coherent_and_formatted_hi_ci',\n",
    "             error_y_minus='coherent_and_formatted_low_ci',\n",
    "             # color='n_few_shot_examples',\n",
    "             # facet_row='model',\n",
    "             title=\"% of responses that adhere to encoding style AND produce coherent English after decoding<br><sup>Adherence determined by prompting Qwen3 235B to compare the model's output to the reference encoded reasoning.\",\n",
    "             barmode=\"group\"\n",
    "            )\n",
    "\n",
    "fig.update_yaxes(title=\"% adherent & coherent\", dtick=0.05)\n",
    "\n",
    "fig.show()"
   ]
  },
  {
   "cell_type": "code",
   "execution_count": null,
   "id": "ce72f4a6-5246-4397-890a-3eb3ded732a5",
   "metadata": {},
   "outputs": [],
   "source": [
    "df_viz_tmp = df_viz[df_viz['input_type'] == 'conversational_sft']\n",
    "df_viz_tmp = df_viz_tmp.explode('ppls')\n",
    "df_viz_tmp = df_viz_tmp.sort_values(['model_size', 'encoding_scheme', 'n_few_shot_examples'])\n",
    "\n",
    "fig = px.box(df_viz_tmp, \n",
    "             x='encoding_scheme', \n",
    "             y='ppls', \n",
    "             height=600, \n",
    "             width=1600,\n",
    "             color='model',\n",
    "             title=\"Total log loss on ground truth encoded chat output, SFT\",\n",
    ")\n",
    "\n",
    "# Get unique models and encoding schemes\n",
    "models = df_viz_tmp['model'].unique()\n",
    "encoding_schemes = df_viz_tmp['encoding_scheme'].unique()\n",
    "\n",
    "# Calculate offset for each model in grouped box plot\n",
    "n_models = len(models)\n",
    "offsets = np.linspace(-(n_models-1)*0.2/2, (n_models-1)*0.2/2, n_models)\n",
    "model_offset_map = dict(zip(models, offsets))\n",
    "\n",
    "# Calculate medians and add as text annotations\n",
    "for model in models:\n",
    "    for encoding in encoding_schemes:\n",
    "        # Filter data for this specific combination\n",
    "        data_subset = df_viz_tmp[(df_viz_tmp['model'] == model) & \n",
    "                                  (df_viz_tmp['encoding_scheme'] == encoding)]['ppls']\n",
    "        \n",
    "        if len(data_subset) > 0:\n",
    "            median_val = data_subset.median()\n",
    "            \n",
    "            # Get the offset for this model\n",
    "            x_offset = model_offset_map[model]\n",
    "            \n",
    "            # Add text annotation for median with offset\n",
    "            fig.add_annotation(\n",
    "                x=encoding,\n",
    "                y=median_val,\n",
    "                text=f\"{median_val:.0f}\",\n",
    "                showarrow=False,\n",
    "                font=dict(size=10, color='black'),\n",
    "                bgcolor='rgba(255, 255, 255, 0.8)',\n",
    "                bordercolor='black',\n",
    "                borderwidth=1,\n",
    "                borderpad=2,\n",
    "                xshift=x_offset * 500,  # Convert offset to pixels (adjust multiplier as needed)\n",
    "                yshift=0\n",
    "            )\n",
    "\n",
    "fig.update_yaxes(title=\"Total log loss\", dtick=1000, range=[0, 5000])\n",
    "fig.update_traces(marker=dict(opacity=0.08))\n",
    "fig.show()"
   ]
  },
  {
   "cell_type": "code",
   "execution_count": null,
   "id": "59669ae0-5d12-4900-b7dd-48c1680ce90f",
   "metadata": {},
   "outputs": [],
   "source": [
    "df_test = pd.read_parquet(\"~/sky_workdir/encoding-schemes/output/45321663b9a0bf538b14734f76ac5f644f5eb505/data/sft_train.parquet\")\n",
    "\n",
    "len(df_test)"
   ]
  },
  {
   "cell_type": "code",
   "execution_count": null,
   "id": "951a9cbc-616a-4cd6-8317-88775ebe5adc",
   "metadata": {},
   "outputs": [],
   "source": []
  }
 ],
 "metadata": {
  "kernelspec": {
   "display_name": "Python 3 (ipykernel)",
   "language": "python",
   "name": "python3"
  },
  "language_info": {
   "codemirror_mode": {
    "name": "ipython",
    "version": 3
   },
   "file_extension": ".py",
   "mimetype": "text/x-python",
   "name": "python",
   "nbconvert_exporter": "python",
   "pygments_lexer": "ipython3",
   "version": "3.10.12"
  }
 },
 "nbformat": 4,
 "nbformat_minor": 5
}
