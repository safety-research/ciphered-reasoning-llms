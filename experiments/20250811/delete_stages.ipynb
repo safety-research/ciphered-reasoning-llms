{
 "cells": [
  {
   "cell_type": "code",
   "execution_count": null,
   "id": "3bc9ea13-e9ce-4866-86bf-38c64b70c30c",
   "metadata": {},
   "outputs": [],
   "source": [
    "import os\n",
    "import sys\n",
    "import pandas as pd"
   ]
  },
  {
   "cell_type": "code",
   "execution_count": null,
   "id": "9edbe483-22e3-4b40-b4e5-a4f64e538107",
   "metadata": {},
   "outputs": [],
   "source": [
    "# run gridder with --dry-run\n",
    "l_hashes = ['9f467651b35f4c3234130e1cbfe0f14a33c7a489', '2bdae2eb43683f73cf0f85046f026899fb1a331f', '9a1b29599fa13633786b44547eac234c34ab1f13', 'de019258ffa193981a43187693ee5115c0fa215e', '12a756c7fff150d7e9e6faf6f3f53809b1b28efa', '4a986bc96313ce10f5e86b37e9e6381f793759c8']"
   ]
  },
  {
   "cell_type": "code",
   "execution_count": null,
   "id": "a73b4638-e6e9-4bed-af21-40926fa66fe8",
   "metadata": {},
   "outputs": [],
   "source": [
    "len(l_hashes)"
   ]
  },
  {
   "cell_type": "code",
   "execution_count": null,
   "id": "eb4e0ef0-dc5a-48d6-b261-dcf3bdda432f",
   "metadata": {},
   "outputs": [],
   "source": [
    "for hash in l_hashes:\n",
    "    if os.path.exists(f\"/home/ubuntu/sky_workdir/encoding-schemes/output/{hash}/checkpoints/sft_model\") and not os.path.exists(f\"/home/ubuntu/sky_workdir/encoding-schemes/output/{hash}/sft_model/last\"):\n",
    "        print(hash)\n",
    "        os.system(f\"rm /home/ubuntu/sky_workdir/encoding-schemes/output/{hash}/checkpoints/sft_model\")"
   ]
  },
  {
   "cell_type": "code",
   "execution_count": null,
   "id": "d7cb1ce4-a9de-4944-aef0-599ea8d5f7e4",
   "metadata": {},
   "outputs": [],
   "source": []
  },
  {
   "cell_type": "code",
   "execution_count": null,
   "id": "ced135bb-e506-4ea8-9420-29665e26d804",
   "metadata": {},
   "outputs": [],
   "source": [
    "for hash in l_hashes:\n",
    "    for stage in [\n",
    "        'generate_math500_cot',\n",
    "        'evaluate_math_accuracy',\n",
    "        'judge_cot_encoding_English_coherence'\n",
    "    ]:\n",
    "        os.system(f\"rm /home/ubuntu/sky_workdir/encoding-schemes/output/{hash}/checkpoints/{stage}\")"
   ]
  },
  {
   "cell_type": "code",
   "execution_count": null,
   "id": "3973dcbf-d389-418c-be4b-f69a7ac20bcb",
   "metadata": {},
   "outputs": [],
   "source": []
  },
  {
   "cell_type": "code",
   "execution_count": null,
   "id": "ea14957a-ed44-426e-b27e-4c17ce0b321c",
   "metadata": {},
   "outputs": [],
   "source": [
    "import os\n",
    "import psycopg2\n",
    "import json\n",
    "\n",
    "conn_string = os.environ[\"SUPABASE_CONNECTION_URL\"]\n",
    "\n",
    "conn = psycopg2.connect(conn_string)\n",
    "\n",
    "df = pd.read_sql(\"\"\"\n",
    "SELECT *, (data->'experiment_params'->'dataset')::TEXT as dataset FROM public.encoding_schemes \n",
    "    WHERE \n",
    "\n",
    "-- NuminaMath CoT Rerun\n",
    "(\n",
    "    (data->'experiment_params'->'dataset')::TEXT LIKE '%prm800k%'\n",
    ")\n",
    "\n",
    "ORDER BY created_at DESC\n",
    "\"\"\", conn)\n",
    "\n",
    "df.head()"
   ]
  },
  {
   "cell_type": "code",
   "execution_count": null,
   "id": "c034dedc-e1fe-40b4-a73c-6f6016cbe165",
   "metadata": {},
   "outputs": [],
   "source": [
    "len(df)"
   ]
  },
  {
   "cell_type": "code",
   "execution_count": null,
   "id": "2483fc8a-4f7e-4b78-b020-518c586d3f88",
   "metadata": {},
   "outputs": [],
   "source": [
    "df[\"dataset\"].value_counts()"
   ]
  },
  {
   "cell_type": "code",
   "execution_count": null,
   "id": "bef2ca6e-3f14-4366-ab4b-c2dfb028a638",
   "metadata": {
    "scrolled": true
   },
   "outputs": [],
   "source": [
    "for hash in df[\"experiment_hash\"]:\n",
    "    assert hash != '*'\n",
    "    \n",
    "    if os.path.exists(f\"/home/ubuntu/sky_workdir/encoding-schemes/output/{hash}/sft_model\"):\n",
    "        # print(hash)\n",
    "        os.system(f\"rm -r /home/ubuntu/sky_workdir/encoding-schemes/output/{hash}/sft_model\")"
   ]
  },
  {
   "cell_type": "code",
   "execution_count": null,
   "id": "27d4d9c8-6283-462a-8553-b086aad9d7ac",
   "metadata": {},
   "outputs": [],
   "source": []
  }
 ],
 "metadata": {
  "kernelspec": {
   "display_name": "Python 3 (ipykernel)",
   "language": "python",
   "name": "python3"
  },
  "language_info": {
   "codemirror_mode": {
    "name": "ipython",
    "version": 3
   },
   "file_extension": ".py",
   "mimetype": "text/x-python",
   "name": "python",
   "nbconvert_exporter": "python",
   "pygments_lexer": "ipython3",
   "version": "3.10.12"
  }
 },
 "nbformat": 4,
 "nbformat_minor": 5
}
