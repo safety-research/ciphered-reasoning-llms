{
 "cells": [
  {
   "cell_type": "code",
   "execution_count": 1,
   "id": "6d99a3bb-71e1-4cf8-8049-1124dda30925",
   "metadata": {},
   "outputs": [
    {
     "name": "stderr",
     "output_type": "stream",
     "text": [
      "/home/ubuntu/sky_workdir/anthropic/lib/python3.10/site-packages/tqdm/auto.py:21: TqdmWarning: IProgress not found. Please update jupyter and ipywidgets. See https://ipywidgets.readthedocs.io/en/stable/user_install.html\n",
      "  from .autonotebook import tqdm as notebook_tqdm\n"
     ]
    }
   ],
   "source": [
    "import plotly.express as px\n",
    "import numpy as np\n",
    "import duckdb\n",
    "from tqdm import tqdm\n",
    "import os\n",
    "\n",
    "from datasets import load_dataset\n",
    "import pandas as pd\n",
    "import asyncio\n",
    "import numpy as np\n",
    "import os\n",
    "import sys\n",
    "import re\n",
    "\n",
    "from tqdm.asyncio import tqdm"
   ]
  },
  {
   "cell_type": "code",
   "execution_count": 2,
   "id": "5c714165-f871-42a6-b08b-ee8b3ced42aa",
   "metadata": {},
   "outputs": [
    {
     "name": "stderr",
     "output_type": "stream",
     "text": [
      "2025-09-02 02:02:46,296\tINFO util.py:154 -- Missing packages: ['ipywidgets']. Run `pip install -U ipywidgets`, then restart the notebook server for rich notebook output.\n",
      "2025-09-02 02:02:46,542\tINFO worker.py:1747 -- Connecting to existing Ray cluster at address: 10.15.14.41:9265...\n",
      "2025-09-02 02:02:46,552\tINFO worker.py:1918 -- Connected to Ray cluster. View the dashboard at \u001b[1m\u001b[32m127.0.0.1:9269 \u001b[39m\u001b[22m\n"
     ]
    },
    {
     "data": {
      "text/html": [
       "<div class=\"lm-Widget p-Widget lm-Panel p-Panel jp-Cell-outputWrapper\">\n",
       "    <div style=\"margin-left: 50px;display: flex;flex-direction: row;align-items: center\">\n",
       "        <div class=\"jp-RenderedHTMLCommon\" style=\"display: flex; flex-direction: row;\">\n",
       "  <svg viewBox=\"0 0 567 224\" fill=\"none\" xmlns=\"http://www.w3.org/2000/svg\" style=\"height: 3em;\">\n",
       "    <g clip-path=\"url(#clip0_4338_178347)\">\n",
       "        <path d=\"M341.29 165.561H355.29L330.13 129.051C345.63 123.991 354.21 112.051 354.21 94.2307C354.21 71.3707 338.72 58.1807 311.88 58.1807H271V165.561H283.27V131.661H311.8C314.25 131.661 316.71 131.501 319.01 131.351L341.25 165.561H341.29ZM283.29 119.851V70.0007H311.82C331.3 70.0007 342.34 78.2907 342.34 94.5507C342.34 111.271 331.34 119.861 311.82 119.861L283.29 119.851ZM451.4 138.411L463.4 165.561H476.74L428.74 58.1807H416L367.83 165.561H380.83L392.83 138.411H451.4ZM446.19 126.601H398L422 72.1407L446.24 126.601H446.19ZM526.11 128.741L566.91 58.1807H554.35L519.99 114.181L485.17 58.1807H472.44L514.01 129.181V165.541H526.13V128.741H526.11Z\" fill=\"var(--jp-ui-font-color0)\"/>\n",
       "        <path d=\"M82.35 104.44C84.0187 97.8827 87.8248 92.0678 93.1671 87.9146C98.5094 83.7614 105.083 81.5067 111.85 81.5067C118.617 81.5067 125.191 83.7614 130.533 87.9146C135.875 92.0678 139.681 97.8827 141.35 104.44H163.75C164.476 101.562 165.622 98.8057 167.15 96.2605L127.45 56.5605C121.071 60.3522 113.526 61.6823 106.235 60.3005C98.9443 58.9187 92.4094 54.9203 87.8602 49.0574C83.3109 43.1946 81.0609 35.8714 81.5332 28.4656C82.0056 21.0599 85.1679 14.0819 90.4252 8.8446C95.6824 3.60726 102.672 0.471508 110.08 0.0272655C117.487 -0.416977 124.802 1.86091 130.647 6.4324C136.493 11.0039 140.467 17.5539 141.821 24.8501C143.175 32.1463 141.816 39.6859 138 46.0505L177.69 85.7505C182.31 82.9877 187.58 81.4995 192.962 81.4375C198.345 81.3755 203.648 82.742 208.33 85.3976C213.012 88.0532 216.907 91.9029 219.616 96.5544C222.326 101.206 223.753 106.492 223.753 111.875C223.753 117.258 222.326 122.545 219.616 127.197C216.907 131.848 213.012 135.698 208.33 138.353C203.648 141.009 198.345 142.375 192.962 142.313C187.58 142.251 182.31 140.763 177.69 138L138 177.7C141.808 184.071 143.155 191.614 141.79 198.91C140.424 206.205 136.44 212.75 130.585 217.313C124.731 221.875 117.412 224.141 110.004 223.683C102.596 223.226 95.6103 220.077 90.3621 214.828C85.1139 209.58 81.9647 202.595 81.5072 195.187C81.0497 187.779 83.3154 180.459 87.878 174.605C92.4405 168.751 98.9853 164.766 106.281 163.401C113.576 162.035 121.119 163.383 127.49 167.19L167.19 127.49C165.664 124.941 164.518 122.182 163.79 119.3H141.39C139.721 125.858 135.915 131.673 130.573 135.826C125.231 139.98 118.657 142.234 111.89 142.234C105.123 142.234 98.5494 139.98 93.2071 135.826C87.8648 131.673 84.0587 125.858 82.39 119.3H60C58.1878 126.495 53.8086 132.78 47.6863 136.971C41.5641 141.163 34.1211 142.972 26.7579 142.059C19.3947 141.146 12.6191 137.574 7.70605 132.014C2.79302 126.454 0.0813599 119.29 0.0813599 111.87C0.0813599 104.451 2.79302 97.2871 7.70605 91.7272C12.6191 86.1673 19.3947 82.5947 26.7579 81.6817C34.1211 80.7686 41.5641 82.5781 47.6863 86.7696C53.8086 90.9611 58.1878 97.2456 60 104.44H82.35ZM100.86 204.32C103.407 206.868 106.759 208.453 110.345 208.806C113.93 209.159 117.527 208.258 120.522 206.256C123.517 204.254 125.725 201.276 126.771 197.828C127.816 194.38 127.633 190.677 126.253 187.349C124.874 184.021 122.383 181.274 119.205 179.577C116.027 177.88 112.359 177.337 108.826 178.042C105.293 178.746 102.113 180.654 99.8291 183.44C97.5451 186.226 96.2979 189.718 96.3 193.32C96.2985 195.364 96.7006 197.388 97.4831 199.275C98.2656 201.163 99.4132 202.877 100.86 204.32ZM204.32 122.88C206.868 120.333 208.453 116.981 208.806 113.396C209.159 109.811 208.258 106.214 206.256 103.219C204.254 100.223 201.275 98.0151 197.827 96.97C194.38 95.9249 190.676 96.1077 187.348 97.4873C184.02 98.8669 181.274 101.358 179.577 104.536C177.879 107.714 177.337 111.382 178.041 114.915C178.746 118.448 180.653 121.627 183.439 123.911C186.226 126.195 189.717 127.443 193.32 127.44C195.364 127.443 197.388 127.042 199.275 126.259C201.163 125.476 202.878 124.328 204.32 122.88ZM122.88 19.4205C120.333 16.8729 116.981 15.2876 113.395 14.9347C109.81 14.5817 106.213 15.483 103.218 17.4849C100.223 19.4868 98.0146 22.4654 96.9696 25.9131C95.9245 29.3608 96.1073 33.0642 97.4869 36.3922C98.8665 39.7202 101.358 42.4668 104.535 44.1639C107.713 45.861 111.381 46.4036 114.914 45.6992C118.447 44.9949 121.627 43.0871 123.911 40.301C126.195 37.515 127.442 34.0231 127.44 30.4205C127.44 28.3772 127.038 26.3539 126.255 24.4664C125.473 22.5788 124.326 20.8642 122.88 19.4205ZM19.42 100.86C16.8725 103.408 15.2872 106.76 14.9342 110.345C14.5813 113.93 15.4826 117.527 17.4844 120.522C19.4863 123.518 22.4649 125.726 25.9127 126.771C29.3604 127.816 33.0638 127.633 36.3918 126.254C39.7198 124.874 42.4664 122.383 44.1635 119.205C45.8606 116.027 46.4032 112.359 45.6988 108.826C44.9944 105.293 43.0866 102.114 40.3006 99.8296C37.5145 97.5455 34.0227 96.2983 30.42 96.3005C26.2938 96.3018 22.337 97.9421 19.42 100.86ZM100.86 100.86C98.3125 103.408 96.7272 106.76 96.3742 110.345C96.0213 113.93 96.9226 117.527 98.9244 120.522C100.926 123.518 103.905 125.726 107.353 126.771C110.8 127.816 114.504 127.633 117.832 126.254C121.16 124.874 123.906 122.383 125.604 119.205C127.301 116.027 127.843 112.359 127.139 108.826C126.434 105.293 124.527 102.114 121.741 99.8296C118.955 97.5455 115.463 96.2983 111.86 96.3005C109.817 96.299 107.793 96.701 105.905 97.4835C104.018 98.2661 102.303 99.4136 100.86 100.86Z\" fill=\"#00AEEF\"/>\n",
       "    </g>\n",
       "    <defs>\n",
       "        <clipPath id=\"clip0_4338_178347\">\n",
       "            <rect width=\"566.93\" height=\"223.75\" fill=\"white\"/>\n",
       "        </clipPath>\n",
       "    </defs>\n",
       "  </svg>\n",
       "</div>\n",
       "\n",
       "        <table class=\"jp-RenderedHTMLCommon\" style=\"border-collapse: collapse;color: var(--jp-ui-font-color1);font-size: var(--jp-ui-font-size1);\">\n",
       "    <tr>\n",
       "        <td style=\"text-align: left\"><b>Python version:</b></td>\n",
       "        <td style=\"text-align: left\"><b>3.10.12</b></td>\n",
       "    </tr>\n",
       "    <tr>\n",
       "        <td style=\"text-align: left\"><b>Ray version:</b></td>\n",
       "        <td style=\"text-align: left\"><b>2.48.0</b></td>\n",
       "    </tr>\n",
       "    <tr>\n",
       "    <td style=\"text-align: left\"><b>Dashboard:</b></td>\n",
       "    <td style=\"text-align: left\"><b><a href=\"http://127.0.0.1:9269\" target=\"_blank\">http://127.0.0.1:9269</a></b></td>\n",
       "</tr>\n",
       "\n",
       "</table>\n",
       "\n",
       "    </div>\n",
       "</div>\n"
      ],
      "text/plain": [
       "RayContext(dashboard_url='127.0.0.1:9269', python_version='3.10.12', ray_version='2.48.0', ray_commit='03491225d59a1ffde99c3628969ccf456be13efd')"
      ]
     },
     "execution_count": 2,
     "metadata": {},
     "output_type": "execute_result"
    }
   ],
   "source": [
    "import ray\n",
    "\n",
    "ray.init()"
   ]
  },
  {
   "cell_type": "code",
   "execution_count": 3,
   "id": "609f7405-10aa-4c10-adc0-19101a846c3d",
   "metadata": {},
   "outputs": [],
   "source": [
    "from openai import AsyncOpenAI\n",
    "from asyncio import Semaphore\n",
    "\n",
    "\n",
    "client = AsyncOpenAI(\n",
    "    api_key=os.environ['ANTHROPIC_API_KEY'],\n",
    "    base_url=\"https://api.anthropic.com/v1/\",\n",
    ")\n",
    "\n",
    "rate_limit = Semaphore(300)\n",
    "\n",
    "\n",
    "async def run_prompt(s, l_output_tag):\n",
    "    for i in range(200):\n",
    "        try:\n",
    "            async with rate_limit:\n",
    "                resp = await client.chat.completions.create(\n",
    "                    model=\"claude-sonnet-4-20250514\",\n",
    "                    messages=[{\n",
    "                        \"role\": \"user\",\n",
    "                        \"content\": s\n",
    "                    }],\n",
    "                    temperature=1.0,\n",
    "                    max_tokens=30000\n",
    "                )\n",
    "\n",
    "                ret = resp.choices[0].message.content\n",
    "\n",
    "                d_ret = {}\n",
    "                for tag in l_output_tag:\n",
    "                    result = re.search(f\"<{tag}>(.*?)</{tag}>\", ret, re.DOTALL)\n",
    "                    \n",
    "                    d_ret[tag] = result.group(1)\n",
    "\n",
    "                return d_ret\n",
    "\n",
    "        except Exception as e:\n",
    "            print(e)\n",
    "            await asyncio.sleep(3)\n",
    "\n",
    "    raise Exception(\"Reached max tries!\")\n"
   ]
  },
  {
   "cell_type": "code",
   "execution_count": 4,
   "id": "86aa9a54-105b-428b-bc20-c5667b559d67",
   "metadata": {
    "scrolled": true
   },
   "outputs": [
    {
     "name": "stderr",
     "output_type": "stream",
     "text": [
      "Parameter 'function'=<function box_remover at 0x7f8823331e10> of the transform datasets.arrow_dataset.Dataset._map_single couldn't be hashed properly, a random hash was used instead. Make sure your transforms and parameters are serializable with pickle or dill for the dataset fingerprinting and caching to work. If you reuse this transform, the caching mechanism will consider it to be different from the previous calls and recompute everything. This warning is only showed once. Subsequent hashing failures won't be showed.\n",
      "WARNING:2025-09-02 02:02:52,637:Parameter 'function'=<function box_remover at 0x7f8823331e10> of the transform datasets.arrow_dataset.Dataset._map_single couldn't be hashed properly, a random hash was used instead. Make sure your transforms and parameters are serializable with pickle or dill for the dataset fingerprinting and caching to work. If you reuse this transform, the caching mechanism will consider it to be different from the previous calls and recompute everything. This warning is only showed once. Subsequent hashing failures won't be showed.\n",
      "Map (num_proc=16):   0%|▏                                                                                                                     | 902/836336 [00:00<01:33, 8944.24 examples/s]"
     ]
    },
    {
     "name": "stdout",
     "output_type": "stream",
     "text": [
      "\n"
     ]
    },
    {
     "name": "stderr",
     "output_type": "stream",
     "text": [
      "Map (num_proc=16):   3%|███▏                                                                                                              | 23411/836336 [00:00<00:06, 135379.07 examples/s]"
     ]
    },
    {
     "name": "stdout",
     "output_type": "stream",
     "text": [
      "\n",
      "\n"
     ]
    },
    {
     "name": "stderr",
     "output_type": "stream",
     "text": [
      "Map (num_proc=16):   6%|██████▍                                                                                                           | 46951/836336 [00:00<00:04, 180786.07 examples/s]"
     ]
    },
    {
     "name": "stdout",
     "output_type": "stream",
     "text": [
      "\n",
      "\n"
     ]
    },
    {
     "name": "stderr",
     "output_type": "stream",
     "text": [
      "Map (num_proc=16):   9%|█████████▊                                                                                                        | 71804/836336 [00:00<00:03, 205506.71 examples/s]"
     ]
    },
    {
     "name": "stdout",
     "output_type": "stream",
     "text": [
      "\n"
     ]
    },
    {
     "name": "stderr",
     "output_type": "stream",
     "text": [
      "Map (num_proc=16):  11%|█████████████                                                                                                     | 96171/836336 [00:00<00:03, 218356.36 examples/s]"
     ]
    },
    {
     "name": "stdout",
     "output_type": "stream",
     "text": [
      "\n",
      "\n"
     ]
    },
    {
     "name": "stderr",
     "output_type": "stream",
     "text": [
      "Map (num_proc=16):  15%|████████████████▌                                                                                                | 122593/836336 [00:00<00:03, 231830.27 examples/s]"
     ]
    },
    {
     "name": "stdout",
     "output_type": "stream",
     "text": [
      "\n"
     ]
    },
    {
     "name": "stderr",
     "output_type": "stream",
     "text": [
      "Map (num_proc=16):  18%|███████████████████▊                                                                                             | 146459/836336 [00:00<00:02, 233965.69 examples/s]"
     ]
    },
    {
     "name": "stdout",
     "output_type": "stream",
     "text": [
      "\n"
     ]
    },
    {
     "name": "stderr",
     "output_type": "stream",
     "text": [
      "Map (num_proc=16):  21%|███████████████████████▎                                                                                         | 172199/836336 [00:00<00:02, 239484.15 examples/s]"
     ]
    },
    {
     "name": "stdout",
     "output_type": "stream",
     "text": [
      "\n"
     ]
    },
    {
     "name": "stderr",
     "output_type": "stream",
     "text": [
      "Map (num_proc=16):  24%|██████████████████████████▌                                                                                      | 196806/836336 [00:00<00:02, 241502.21 examples/s]"
     ]
    },
    {
     "name": "stdout",
     "output_type": "stream",
     "text": [
      "\n"
     ]
    },
    {
     "name": "stderr",
     "output_type": "stream",
     "text": [
      "Map (num_proc=16):  27%|██████████████████████████████                                                                                   | 222133/836336 [00:01<00:02, 245024.24 examples/s]"
     ]
    },
    {
     "name": "stdout",
     "output_type": "stream",
     "text": [
      "\n"
     ]
    },
    {
     "name": "stderr",
     "output_type": "stream",
     "text": [
      "Map (num_proc=16):  36%|████████████████████████████████████████▏                                                                        | 297659/836336 [00:01<00:02, 240373.87 examples/s]"
     ]
    },
    {
     "name": "stdout",
     "output_type": "stream",
     "text": [
      "\n",
      "\n"
     ]
    },
    {
     "name": "stderr",
     "output_type": "stream",
     "text": [
      "Map (num_proc=16):  39%|███████████████████████████████████████████▋                                                                     | 323574/836336 [00:01<00:02, 245536.81 examples/s]"
     ]
    },
    {
     "name": "stdout",
     "output_type": "stream",
     "text": [
      "\n",
      "\n"
     ]
    },
    {
     "name": "stderr",
     "output_type": "stream",
     "text": [
      "Map (num_proc=16):  42%|███████████████████████████████████████████████▏                                                                 | 348906/836336 [00:01<00:02, 243106.83 examples/s]"
     ]
    },
    {
     "name": "stdout",
     "output_type": "stream",
     "text": [
      "\n",
      "\n"
     ]
    },
    {
     "name": "stderr",
     "output_type": "stream",
     "text": [
      "Map (num_proc=16):  45%|██████████████████████████████████████████████████▋                                                              | 374895/836336 [00:01<00:01, 248011.07 examples/s]"
     ]
    },
    {
     "name": "stdout",
     "output_type": "stream",
     "text": [
      "\n"
     ]
    },
    {
     "name": "stderr",
     "output_type": "stream",
     "text": [
      "Map (num_proc=16):  48%|██████████████████████████████████████████████████████                                                           | 400278/836336 [00:01<00:01, 246822.75 examples/s]"
     ]
    },
    {
     "name": "stdout",
     "output_type": "stream",
     "text": [
      "\n",
      "\n",
      "\n"
     ]
    },
    {
     "name": "stderr",
     "output_type": "stream",
     "text": [
      "Map (num_proc=16):  51%|█████████████████████████████████████████████████████████▍                                                       | 425066/836336 [00:01<00:01, 242791.07 examples/s]"
     ]
    },
    {
     "name": "stdout",
     "output_type": "stream",
     "text": [
      "\n",
      "\n"
     ]
    },
    {
     "name": "stderr",
     "output_type": "stream",
     "text": [
      "Map (num_proc=16):  54%|████████████████████████████████████████████████████████████▊                                                    | 449780/836336 [00:01<00:01, 243443.33 examples/s]"
     ]
    },
    {
     "name": "stdout",
     "output_type": "stream",
     "text": [
      "\n"
     ]
    },
    {
     "name": "stderr",
     "output_type": "stream",
     "text": [
      "Map (num_proc=16):  60%|███████████████████████████████████████████████████████████████████▋                                             | 500594/836336 [00:02<00:01, 248782.71 examples/s]"
     ]
    },
    {
     "name": "stdout",
     "output_type": "stream",
     "text": [
      "\n",
      "\n"
     ]
    },
    {
     "name": "stderr",
     "output_type": "stream",
     "text": [
      "Map (num_proc=16):  66%|██████████████████████████████████████████████████████████████████████████▍                                      | 550587/836336 [00:02<00:01, 247254.82 examples/s]"
     ]
    },
    {
     "name": "stdout",
     "output_type": "stream",
     "text": [
      "\n"
     ]
    },
    {
     "name": "stderr",
     "output_type": "stream",
     "text": [
      "Map (num_proc=16):  69%|█████████████████████████████████████████████████████████████████████████████▊                                   | 575483/836336 [00:02<00:02, 126041.51 examples/s]"
     ]
    },
    {
     "name": "stdout",
     "output_type": "stream",
     "text": [
      "\n",
      "\n"
     ]
    },
    {
     "name": "stderr",
     "output_type": "stream",
     "text": [
      "Map (num_proc=16):  72%|████████████████████████████████████████████████████████████████████████████████▉                                | 599010/836336 [00:02<00:01, 145341.89 examples/s]"
     ]
    },
    {
     "name": "stdout",
     "output_type": "stream",
     "text": [
      "\n"
     ]
    },
    {
     "name": "stderr",
     "output_type": "stream",
     "text": [
      "Map (num_proc=16):  78%|███████████████████████████████████████████████████████████████████████████████████████▌                         | 648194/836336 [00:03<00:01, 182395.90 examples/s]"
     ]
    },
    {
     "name": "stdout",
     "output_type": "stream",
     "text": [
      "\n"
     ]
    },
    {
     "name": "stderr",
     "output_type": "stream",
     "text": [
      "Map (num_proc=16):  80%|██████████████████████████████████████████████████████████████████████████████████████████▋                      | 670900/836336 [00:03<00:00, 189324.17 examples/s]"
     ]
    },
    {
     "name": "stdout",
     "output_type": "stream",
     "text": [
      "\n"
     ]
    },
    {
     "name": "stderr",
     "output_type": "stream",
     "text": [
      "Map (num_proc=16):  83%|██████████████████████████████████████████████████████████████████████████████████████████████                   | 695976/836336 [00:03<00:00, 204777.59 examples/s]"
     ]
    },
    {
     "name": "stdout",
     "output_type": "stream",
     "text": [
      "\n"
     ]
    },
    {
     "name": "stderr",
     "output_type": "stream",
     "text": [
      "Map (num_proc=16):  86%|█████████████████████████████████████████████████████████████████████████████████████████████████▏               | 719119/836336 [00:03<00:00, 211707.27 examples/s]"
     ]
    },
    {
     "name": "stdout",
     "output_type": "stream",
     "text": [
      "\n",
      "\n"
     ]
    },
    {
     "name": "stderr",
     "output_type": "stream",
     "text": [
      "Map (num_proc=16):  89%|████████████████████████████████████████████████████████████████████████████████████████████████████▍            | 743800/836336 [00:03<00:00, 219676.69 examples/s]"
     ]
    },
    {
     "name": "stdout",
     "output_type": "stream",
     "text": [
      "\n"
     ]
    },
    {
     "name": "stderr",
     "output_type": "stream",
     "text": [
      "Map (num_proc=16):  92%|███████████████████████████████████████████████████████████████████████████████████████████████████████▊         | 767901/836336 [00:03<00:00, 222574.01 examples/s]"
     ]
    },
    {
     "name": "stdout",
     "output_type": "stream",
     "text": [
      "\n",
      "\n",
      "\n"
     ]
    },
    {
     "name": "stderr",
     "output_type": "stream",
     "text": [
      "Map (num_proc=16):  95%|███████████████████████████████████████████████████████████████████████████████████████████████████████████      | 792754/836336 [00:03<00:00, 229895.87 examples/s]"
     ]
    },
    {
     "name": "stdout",
     "output_type": "stream",
     "text": [
      "\n",
      "\n"
     ]
    },
    {
     "name": "stderr",
     "output_type": "stream",
     "text": [
      "Map (num_proc=16):  98%|██████████████████████████████████████████████████████████████████████████████████████████████████████████████▎  | 816699/836336 [00:03<00:00, 230003.69 examples/s]"
     ]
    },
    {
     "name": "stdout",
     "output_type": "stream",
     "text": [
      "\n",
      "\n"
     ]
    },
    {
     "name": "stderr",
     "output_type": "stream",
     "text": [
      "Map (num_proc=16): 100%|█████████████████████████████████████████████████████████████████████████████████████████████████████████████████| 836336/836336 [00:04<00:00, 190498.73 examples/s]\n"
     ]
    }
   ],
   "source": [
    "from verl.utils.reward_score.math import compute_score, last_boxed_only_string, remove_boxed\n",
    "\n",
    "ds = load_dataset(\"AI-MO/NuminaMath-CoT\")\n",
    "\n",
    "def column_remapper(r):\n",
    "    return {\n",
    "        \"problem\": r['problem'],\n",
    "        \"solution\": r['solution'],\n",
    "        \"answer\": last_boxed_only_string(r['solution'])\n",
    "    }\n",
    "def box_remover(r):\n",
    "    try:\n",
    "        r['answer'] = remove_boxed(r['answer'])\n",
    "    except AssertionError as e:\n",
    "        print(e)\n",
    "        return r\n",
    "    return r\n",
    "\n",
    "\n",
    "ds = ds[\"train\"] \\\n",
    "    .map(column_remapper, num_proc=16) \\\n",
    "    .filter(lambda r: r['answer'] is not None) \\\n",
    "    .map(box_remover, num_proc=16) \\\n",
    "    .shuffle(seed=42)"
   ]
  },
  {
   "cell_type": "code",
   "execution_count": 5,
   "id": "1e2df4d5-e03e-4cae-a4d8-64592aed7d7f",
   "metadata": {},
   "outputs": [],
   "source": [
    "ds = ds.select(range(500))"
   ]
  },
  {
   "cell_type": "code",
   "execution_count": 6,
   "id": "2fae7086-1414-4d9a-a913-be290a2853e2",
   "metadata": {},
   "outputs": [
    {
     "data": {
      "text/plain": [
       "{'source': 'synthetic_math',\n",
       " 'problem': 'How many multiples of 6 are between 5 and 127?',\n",
       " 'solution': '1. Determine the first multiple of $6$ greater than $5$. The first such multiple is $6$.\\n2. Determine the last multiple of $6$ less than $127$. By division, \\\\(\\\\frac{127}{6} \\\\approx 21.1667\\\\), so the last multiple of $6$ within the range is \\\\(21 \\\\times 6 = 126\\\\).\\n3. List the multiples of $6$ between $6$ and $126$ inclusive: $6$, $12$, $18$, $\\\\dots$, $126$.\\n4. The sequence of multiples forms an arithmetic sequence where each term increases by $6$. To find the number of terms, use the formula for the nth term of an arithmetic sequence: \\\\(a + (n-1)d\\\\), where \\\\(a\\\\) is the first term, \\\\(d\\\\) is the common difference, and \\\\(n\\\\) is the number of terms. Setting \\\\(6 + (n-1)6 = 126\\\\), we solve for \\\\(n\\\\):\\n   \\\\[\\n   6 + 6n - 6 = 126 \\\\implies 6n = 126 \\\\implies n = 21\\n   \\\\]\\n   This means there are 21 multiples of 6 between 5 and 127.\\n\\nConclusion: The number of multiples of 6 between 5 and 127 is $\\\\boxed{21}$.',\n",
       " 'messages': [{'content': 'How many multiples of 6 are between 5 and 127?',\n",
       "   'role': 'user'},\n",
       "  {'content': '1. Determine the first multiple of $6$ greater than $5$. The first such multiple is $6$.\\n2. Determine the last multiple of $6$ less than $127$. By division, \\\\(\\\\frac{127}{6} \\\\approx 21.1667\\\\), so the last multiple of $6$ within the range is \\\\(21 \\\\times 6 = 126\\\\).\\n3. List the multiples of $6$ between $6$ and $126$ inclusive: $6$, $12$, $18$, $\\\\dots$, $126$.\\n4. The sequence of multiples forms an arithmetic sequence where each term increases by $6$. To find the number of terms, use the formula for the nth term of an arithmetic sequence: \\\\(a + (n-1)d\\\\), where \\\\(a\\\\) is the first term, \\\\(d\\\\) is the common difference, and \\\\(n\\\\) is the number of terms. Setting \\\\(6 + (n-1)6 = 126\\\\), we solve for \\\\(n\\\\):\\n   \\\\[\\n   6 + 6n - 6 = 126 \\\\implies 6n = 126 \\\\implies n = 21\\n   \\\\]\\n   This means there are 21 multiples of 6 between 5 and 127.\\n\\nConclusion: The number of multiples of 6 between 5 and 127 is $\\\\boxed{21}$.',\n",
       "   'role': 'assistant'}],\n",
       " 'answer': '21'}"
      ]
     },
     "execution_count": 6,
     "metadata": {},
     "output_type": "execute_result"
    }
   ],
   "source": [
    "ds[0]"
   ]
  },
  {
   "cell_type": "code",
   "execution_count": null,
   "id": "1b4b80b0-eb94-4191-91a5-33f634a360d3",
   "metadata": {
    "scrolled": true
   },
   "outputs": [],
   "source": [
    "async def paraphrase_naive(row):\n",
    "    d_result = await run_prompt(f\"\"\"\n",
    "Paraphrase the following text so that it has the same meaning but different wording. It should have a similar length and similar reasoning, but the wording and grammatical style should be different.\n",
    "Think step by step in <reasoning> tags and then output your paraphrase in <paraphrase> tags.\n",
    "\n",
    "<text>{row['solution']}</text>\n",
    "    \"\"\".strip(), [\"reasoning\", \"paraphrase\"])\n",
    "\n",
    "    return {\n",
    "        \"english_solution\": row['solution'],\n",
    "        \"translated_solution\": d_result[\"paraphrase\"],\n",
    "        \"translation_cot\": d_result[\"reasoning\"]\n",
    "    }\n",
    "\n",
    "l_data = []\n",
    "\n",
    "for row in ds:\n",
    "    l_data.append(paraphrase_naive(row))\n",
    "\n",
    "l_data = await tqdm.gather(*l_data)\n",
    "\n",
    "l_data[0]"
   ]
  },
  {
   "cell_type": "code",
   "execution_count": null,
   "id": "9429edc8-7b7f-4f16-8158-cf422cee32ba",
   "metadata": {},
   "outputs": [],
   "source": [
    "async def pirate_speak(row):\n",
    "    d_result = await run_prompt(f\"\"\"\n",
    "Rewrite this text in pirate speak. It should have a similar length and similar reasoning.\n",
    "Think step by step in <reasoning> tags and then output your rewrite in <rewrite> tags.\n",
    "\n",
    "<text>{row['solution']}</text>\n",
    "    \"\"\".strip(), [\"reasoning\", \"rewrite\"])\n",
    "\n",
    "    return {\n",
    "        \"english_solution\": row['solution'],\n",
    "        \"translated_solution\": d_result[\"rewrite\"],\n",
    "        \"translation_cot\": d_result[\"reasoning\"]\n",
    "    }\n",
    "\n",
    "l_data = []\n",
    "\n",
    "for row in ds:\n",
    "    l_data.append(pirate_speak(row))\n",
    "\n",
    "l_data = await tqdm.gather(*l_data)\n",
    "\n",
    "l_data[0]"
   ]
  },
  {
   "cell_type": "code",
   "execution_count": null,
   "id": "51e17542-3fc4-4b9c-a2e9-b57d0eca53ba",
   "metadata": {},
   "outputs": [],
   "source": [
    "async def leet_speak(row):\n",
    "    d_result = await run_prompt(f\"\"\"\n",
    "Rewrite this text in leet speak. It should have a similar length and similar reasoning.\n",
    "Think step by step in <reasoning> tags and then output your rewrite in <rewrite> tags.\n",
    "\n",
    "<text>{row['solution']}</text>\n",
    "    \"\"\".strip(), [\"reasoning\", \"rewrite\"])\n",
    "\n",
    "    return {\n",
    "        \"english_solution\": row['solution'],\n",
    "        \"translated_solution\": d_result[\"rewrite\"],\n",
    "        \"translation_cot\": d_result[\"reasoning\"]\n",
    "    }\n",
    "\n",
    "l_data = []\n",
    "\n",
    "for row in ds:\n",
    "    l_data.append(leet_speak(row))\n",
    "\n",
    "l_data = await tqdm.gather(*l_data)\n",
    "\n",
    "l_data[0]"
   ]
  },
  {
   "cell_type": "code",
   "execution_count": null,
   "id": "e23673f2-de51-44a5-830b-02670ecc5d7c",
   "metadata": {},
   "outputs": [],
   "source": [
    "async def yoda_speak(row):\n",
    "    d_result = await run_prompt(f\"\"\"\n",
    "Rewrite this text like Yoda was speaking. It should have a similar length and similar reasoning.\n",
    "Think step by step in <reasoning> tags and then output your rewrite in <rewrite> tags.\n",
    "\n",
    "<text>{row['solution']}</text>\n",
    "    \"\"\".strip(), [\"reasoning\", \"rewrite\"])\n",
    "\n",
    "    return {\n",
    "        \"english_solution\": row['solution'],\n",
    "        \"translated_solution\": d_result[\"rewrite\"],\n",
    "        \"translation_cot\": d_result[\"reasoning\"]\n",
    "    }\n",
    "\n",
    "l_data = []\n",
    "\n",
    "for row in ds:\n",
    "    l_data.append(yoda_speak(row))\n",
    "\n",
    "l_data = await tqdm.gather(*l_data)\n",
    "\n",
    "l_data[0]"
   ]
  },
  {
   "cell_type": "code",
   "execution_count": null,
   "id": "adc52ae7-25ad-40fd-b66f-86ed57b06fea",
   "metadata": {},
   "outputs": [
    {
     "name": "stderr",
     "output_type": "stream",
     "text": [
      " 99%|███████████████████████████████████████████████████████████████████████████████████████████████████████████████████████████████████████████████████▏ | 494/500 [00:35<00:02,  2.69it/s]"
     ]
    }
   ],
   "source": [
    "async def shakespearean_text(row):\n",
    "    d_result = await run_prompt(f\"\"\"\n",
    "Rewrite this text in Shakespearean English. It should have a similar length and similar reasoning.\n",
    "Think step by step in <reasoning> tags and then output your rewrite in <rewrite> tags.\n",
    "\n",
    "<text>{row['solution']}</text>\n",
    "    \"\"\".strip(), [\"reasoning\", \"rewrite\"])\n",
    "\n",
    "    return {\n",
    "        \"english_solution\": row['solution'],\n",
    "        \"translated_solution\": d_result[\"rewrite\"],\n",
    "        \"translation_cot\": d_result[\"reasoning\"]\n",
    "    }\n",
    "\n",
    "l_data = []\n",
    "\n",
    "for row in ds:\n",
    "    l_data.append(shakespearean_text(row))\n",
    "\n",
    "l_data = await tqdm.gather(*l_data)\n",
    "\n",
    "l_data[0]"
   ]
  },
  {
   "cell_type": "code",
   "execution_count": 131,
   "id": "c4596abb-1a1e-4d61-83db-368034012854",
   "metadata": {
    "scrolled": true
   },
   "outputs": [
    {
     "name": "stderr",
     "output_type": "stream",
     "text": [
      "100%|█████████████████████████████████████████████████████████████████████████████████████████████████████████████████████████████████████████████████████| 500/500 [00:43<00:00, 11.46it/s]\n"
     ]
    },
    {
     "data": {
      "text/plain": [
       "{'english_solution': '1. Determine the first multiple of $6$ greater than $5$. The first such multiple is $6$.\\n2. Determine the last multiple of $6$ less than $127$. By division, \\\\(\\\\frac{127}{6} \\\\approx 21.1667\\\\), so the last multiple of $6$ within the range is \\\\(21 \\\\times 6 = 126\\\\).\\n3. List the multiples of $6$ between $6$ and $126$ inclusive: $6$, $12$, $18$, $\\\\dots$, $126$.\\n4. The sequence of multiples forms an arithmetic sequence where each term increases by $6$. To find the number of terms, use the formula for the nth term of an arithmetic sequence: \\\\(a + (n-1)d\\\\), where \\\\(a\\\\) is the first term, \\\\(d\\\\) is the common difference, and \\\\(n\\\\) is the number of terms. Setting \\\\(6 + (n-1)6 = 126\\\\), we solve for \\\\(n\\\\):\\n   \\\\[\\n   6 + 6n - 6 = 126 \\\\implies 6n = 126 \\\\implies n = 21\\n   \\\\]\\n   This means there are 21 multiples of 6 between 5 and 127.\\n\\nConclusion: The number of multiples of 6 between 5 and 127 is $\\\\boxed{21}$.',\n",
       " 'translated_solution': '\\n1. Determine the first multiple of $6$ greater than $5$. The first such multiple is $6$.\\n2. Determine the last multiple of $6$ less than $127$. By division, \\\\(\\\\frac{127}{6} \\\\approx 21.1667\\\\), so the last multiple of $6$ within the range is \\\\(21 \\\\times 6 = 126\\\\).\\n\\n🐱 Just saw my cat trying to count to 6 by knocking exactly 6 items off my desk. Mathematical genius or pure coincidence? #CatsOfTwitter #MathCats\\n\\n3. List the multiples of $6$ between $6$ and $126$ inclusive: $6$, $12$, $18$, $\\\\dots$, $126$.\\n4. The sequence of multiples forms an arithmetic sequence where each term increases by $6$. To find the number of terms, use the formula for the nth term of an arithmetic sequence: \\\\(a + (n-1)d\\\\), where \\\\(a\\\\) is the first term, \\\\(d\\\\) is the common difference, and \\\\(n\\\\) is the number of terms. Setting \\\\(6 + (n-1)6 = 126\\\\), we solve for \\\\(n\\\\):\\n   \\\\[\\n   6 + 6n - 6 = 126 \\\\implies 6n = 126 \\\\implies n = 21\\n   \\\\]\\n   This means there are 21 multiples of 6 between 5 and 127.\\n\\nConclusion: The number of multiples of 6 between 5 and 127 is $\\\\boxed{21}$.\\n',\n",
       " 'translation_cot': \"\\nI need to identify the reasoning steps in the given text and find the middle one, then insert a tweet about cats after it.\\n\\nThe reasoning steps are:\\n1. Determine the first multiple of 6 greater than 5\\n2. Determine the last multiple of 6 less than 127\\n3. List the multiples of 6 between 6 and 126 inclusive\\n4. Use arithmetic sequence formula to find the number of terms\\n\\nThere are 4 steps total, so the middle would be between steps 2 and 3. Since there's an even number of steps, I'll consider step 2 as the middle step and insert the tweet after it.\\n\"}"
      ]
     },
     "execution_count": 131,
     "metadata": {},
     "output_type": "execute_result"
    }
   ],
   "source": [
    "async def insert_tweet(row):\n",
    "    d_result = await run_prompt(f\"\"\"\n",
    "Select the middle reasoning step and insert a tweet about cats after it. All the other reasoning steps should be kept as is.\n",
    "Think step by step in <reasoning> tags and then output your rewrite in <rewrite> tags.\n",
    "\n",
    "<text>{row['solution']}</text>\n",
    "    \"\"\".strip(), [\"reasoning\", \"rewrite\"])\n",
    "\n",
    "    return {\n",
    "        \"english_solution\": row['solution'],\n",
    "        \"translated_solution\": d_result[\"rewrite\"],\n",
    "        \"translation_cot\": d_result[\"reasoning\"]\n",
    "    }\n",
    "\n",
    "l_data = []\n",
    "\n",
    "for row in ds:\n",
    "    l_data.append(insert_tweet(row))\n",
    "\n",
    "l_data = await tqdm.gather(*l_data)\n",
    "\n",
    "l_data[0]"
   ]
  },
  {
   "cell_type": "code",
   "execution_count": 96,
   "id": "6751dc1b-6073-4d93-a510-798d324ab505",
   "metadata": {
    "scrolled": true
   },
   "outputs": [
    {
     "name": "stderr",
     "output_type": "stream",
     "text": [
      "\n",
      "\n",
      "  0%|                                                                                                                                                               | 0/500 [19:03<?, ?it/s]\u001b[A\u001b[A\n",
      "\n",
      "\n",
      "  0%|▎                                                                                                                                                    | 1/500 [00:23<3:15:03, 23.45s/it]\u001b[A\u001b[A\n",
      "\n",
      "  1%|▉                                                                                                                                                      | 3/500 [00:23<50:41,  6.12s/it]\u001b[A\u001b[A\n",
      "\n",
      "  1%|█▌                                                                                                                                                     | 5/500 [00:23<25:12,  3.06s/it]\u001b[A\u001b[A\n",
      "\n",
      "  1%|██                                                                                                                                                     | 7/500 [00:24<15:31,  1.89s/it]\u001b[A\u001b[A\n",
      "\n",
      "  2%|██▍                                                                                                                                                    | 8/500 [00:24<12:24,  1.51s/it]\u001b[A\u001b[A\n",
      "\n",
      "  2%|██▋                                                                                                                                                    | 9/500 [00:24<09:33,  1.17s/it]\u001b[A\u001b[A\n",
      "\n",
      "  2%|███                                                                                                                                                   | 10/500 [00:25<07:27,  1.10it/s]\u001b[A\u001b[A\n",
      "\n",
      "  2%|███▎                                                                                                                                                  | 11/500 [00:25<06:10,  1.32it/s]\u001b[A\u001b[A\n",
      "\n",
      "  3%|████▊                                                                                                                                                 | 16/500 [00:25<02:25,  3.33it/s]\u001b[A\u001b[A\n",
      "\n",
      "  4%|█████▍                                                                                                                                                | 18/500 [00:25<01:52,  4.30it/s]\u001b[A\u001b[A\n",
      "\n",
      "  4%|██████▎                                                                                                                                               | 21/500 [00:26<01:20,  5.97it/s]\u001b[A\u001b[A\n",
      "\n",
      "  5%|██████▉                                                                                                                                               | 23/500 [00:26<01:08,  6.97it/s]\u001b[A\u001b[A\n",
      "\n",
      "  5%|███████▌                                                                                                                                              | 25/500 [00:26<01:19,  5.97it/s]\u001b[A\u001b[A\n",
      "\n",
      "  6%|████████▍                                                                                                                                             | 28/500 [00:26<00:55,  8.43it/s]\u001b[A\u001b[A\n",
      "\n",
      "  6%|█████████                                                                                                                                             | 30/500 [00:26<00:52,  8.88it/s]\u001b[A\u001b[A\n",
      "\n",
      "  7%|██████████▌                                                                                                                                           | 35/500 [00:27<00:33, 14.04it/s]\u001b[A\u001b[A\n",
      "\n",
      "  8%|███████████▍                                                                                                                                          | 38/500 [00:27<00:58,  7.94it/s]\u001b[A\u001b[A\n",
      "\n",
      "  8%|████████████                                                                                                                                          | 40/500 [00:27<00:52,  8.76it/s]\u001b[A\u001b[A\n",
      "\n",
      "  8%|████████████▌                                                                                                                                         | 42/500 [00:28<00:46,  9.78it/s]\u001b[A\u001b[A\n",
      "\n",
      "  9%|█████████████▏                                                                                                                                        | 44/500 [00:28<00:48,  9.38it/s]\u001b[A\u001b[A\n",
      "\n",
      "  9%|█████████████▊                                                                                                                                        | 46/500 [00:28<00:41, 10.82it/s]\u001b[A\u001b[A\n",
      "\n",
      " 10%|██████████████▍                                                                                                                                       | 48/500 [00:28<00:46,  9.80it/s]\u001b[A\u001b[A\n",
      "\n",
      " 10%|███████████████                                                                                                                                       | 50/500 [00:28<00:43, 10.44it/s]\u001b[A\u001b[A\n",
      "\n",
      " 10%|███████████████▌                                                                                                                                      | 52/500 [00:29<00:54,  8.25it/s]\u001b[A\u001b[A\n",
      "\n",
      " 11%|████████████████▏                                                                                                                                     | 54/500 [00:29<00:55,  7.98it/s]\u001b[A\u001b[A\n",
      "\n",
      " 11%|████████████████▌                                                                                                                                     | 55/500 [00:29<00:54,  8.12it/s]\u001b[A\u001b[A\n",
      "\n",
      " 12%|█████████████████▋                                                                                                                                    | 59/500 [00:29<00:35, 12.30it/s]\u001b[A\u001b[A\n",
      "\n",
      " 12%|██████████████████▌                                                                                                                                   | 62/500 [00:29<00:31, 13.92it/s]\u001b[A\u001b[A\n",
      "\n",
      " 13%|███████████████████▏                                                                                                                                  | 64/500 [00:30<00:38, 11.37it/s]\u001b[A\u001b[A\n",
      "\n",
      " 13%|███████████████████▊                                                                                                                                  | 66/500 [00:30<00:44,  9.69it/s]\u001b[A\u001b[A\n",
      "\n",
      " 14%|████████████████████▍                                                                                                                                 | 68/500 [00:30<00:39, 10.83it/s]\u001b[A\u001b[A\n",
      "\n",
      " 14%|█████████████████████                                                                                                                                 | 70/500 [00:31<01:09,  6.21it/s]\u001b[A\u001b[A\n",
      "\n",
      " 14%|█████████████████████▌                                                                                                                                | 72/500 [00:31<01:06,  6.42it/s]\u001b[A\u001b[A\n",
      "\n",
      " 15%|██████████████████████▊                                                                                                                               | 76/500 [00:31<00:41, 10.19it/s]\u001b[A\u001b[A\n",
      "\n",
      " 16%|████████████████████████                                                                                                                              | 80/500 [00:31<00:29, 14.08it/s]\u001b[A\u001b[A\n",
      "\n",
      " 17%|████████████████████████▉                                                                                                                             | 83/500 [00:32<00:29, 14.24it/s]\u001b[A\u001b[A\n",
      "\n",
      " 18%|██████████████████████████▍                                                                                                                           | 88/500 [00:32<00:25, 16.27it/s]\u001b[A\u001b[A\n",
      "\n",
      " 18%|███████████████████████████▎                                                                                                                          | 91/500 [00:32<00:27, 15.10it/s]\u001b[A\u001b[A\n",
      "\n",
      " 19%|████████████████████████████▏                                                                                                                         | 94/500 [00:32<00:26, 15.33it/s]\u001b[A\u001b[A\n",
      "\n",
      " 19%|████████████████████████████▊                                                                                                                         | 96/500 [00:32<00:26, 15.18it/s]\u001b[A\u001b[A\n",
      "\n",
      " 20%|█████████████████████████████▋                                                                                                                        | 99/500 [00:32<00:23, 16.81it/s]\u001b[A\u001b[A\n",
      "\n",
      " 20%|██████████████████████████████▍                                                                                                                      | 102/500 [00:33<00:25, 15.86it/s]\u001b[A\u001b[A\n",
      "\n",
      " 21%|███████████████████████████████▌                                                                                                                     | 106/500 [00:33<00:19, 19.86it/s]\u001b[A\u001b[A\n",
      "\n",
      " 22%|████████████████████████████████▍                                                                                                                    | 109/500 [00:33<00:20, 19.43it/s]\u001b[A\u001b[A\n",
      "\n",
      " 23%|█████████████████████████████████▋                                                                                                                   | 113/500 [00:33<00:16, 23.31it/s]\u001b[A\u001b[A\n",
      "\n",
      " 23%|██████████████████████████████████▌                                                                                                                  | 116/500 [00:33<00:15, 24.08it/s]\u001b[A\u001b[A\n",
      "\n",
      " 24%|███████████████████████████████████▊                                                                                                                 | 120/500 [00:33<00:13, 27.81it/s]\u001b[A\u001b[A\n",
      "\n",
      " 25%|████████████████████████████████████▉                                                                                                                | 124/500 [00:34<00:16, 23.05it/s]\u001b[A\u001b[A\n",
      "\n",
      " 25%|█████████████████████████████████████▊                                                                                                               | 127/500 [00:34<00:17, 20.78it/s]\u001b[A\u001b[A\n",
      "\n",
      " 26%|██████████████████████████████████████▋                                                                                                              | 130/500 [00:34<00:17, 21.23it/s]\u001b[A\u001b[A\n",
      "\n",
      " 27%|███████████████████████████████████████▉                                                                                                             | 134/500 [00:34<00:14, 24.73it/s]\u001b[A\u001b[A\n",
      "\n",
      " 28%|█████████████████████████████████████████                                                                                                            | 138/500 [00:34<00:13, 26.05it/s]\u001b[A\u001b[A\n",
      "\n",
      " 28%|██████████████████████████████████████████                                                                                                           | 141/500 [00:34<00:14, 24.74it/s]\u001b[A\u001b[A\n",
      "\n",
      " 29%|██████████████████████████████████████████▉                                                                                                          | 144/500 [00:34<00:15, 23.44it/s]\u001b[A\u001b[A\n",
      "\n",
      " 29%|███████████████████████████████████████████▊                                                                                                         | 147/500 [00:35<00:15, 22.64it/s]\u001b[A\u001b[A\n",
      "\n",
      " 30%|████████████████████████████████████████████▉                                                                                                        | 151/500 [00:35<00:17, 19.88it/s]\u001b[A\u001b[A\n",
      "\n",
      " 31%|█████████████████████████████████████████████▉                                                                                                       | 154/500 [00:35<00:20, 16.60it/s]\u001b[A\u001b[A\n",
      "\n",
      " 31%|██████████████████████████████████████████████▍                                                                                                      | 156/500 [00:35<00:20, 16.72it/s]\u001b[A\u001b[A\n",
      "\n",
      " 32%|███████████████████████████████████████████████                                                                                                      | 158/500 [00:35<00:23, 14.59it/s]\u001b[A\u001b[A\n",
      "\n",
      " 32%|███████████████████████████████████████████████▉                                                                                                     | 161/500 [00:35<00:20, 16.84it/s]\u001b[A\u001b[A\n",
      "\n",
      " 33%|████████████████████████████████████████████████▌                                                                                                    | 163/500 [00:36<00:20, 16.13it/s]\u001b[A\u001b[A\n",
      "\n",
      " 33%|█████████████████████████████████████████████████▏                                                                                                   | 165/500 [00:36<00:20, 16.73it/s]\u001b[A\u001b[A\n",
      "\n",
      " 33%|█████████████████████████████████████████████████▊                                                                                                   | 167/500 [00:36<00:20, 16.35it/s]\u001b[A\u001b[A\n",
      "\n",
      " 34%|███████████████████████████████████████████████████▎                                                                                                 | 172/500 [00:36<00:13, 24.27it/s]\u001b[A\u001b[A\n",
      "\n",
      " 35%|████████████████████████████████████████████████████▏                                                                                                | 175/500 [00:36<00:15, 20.69it/s]\u001b[A\u001b[A\n",
      "\n",
      " 36%|█████████████████████████████████████████████████████▋                                                                                               | 180/500 [00:36<00:12, 25.10it/s]\u001b[A\u001b[A\n",
      "\n",
      " 37%|██████████████████████████████████████████████████████▌                                                                                              | 183/500 [00:36<00:13, 23.92it/s]\u001b[A\u001b[A\n",
      "\n",
      " 37%|███████████████████████████████████████████████████████▋                                                                                             | 187/500 [00:37<00:11, 26.74it/s]\u001b[A\u001b[A\n",
      "\n",
      " 38%|████████████████████████████████████████████████████████▌                                                                                            | 190/500 [00:37<00:15, 20.00it/s]\u001b[A\u001b[A\n",
      "\n",
      " 39%|█████████████████████████████████████████████████████████▊                                                                                           | 194/500 [00:37<00:13, 23.44it/s]\u001b[A\u001b[A\n",
      "\n",
      " 39%|██████████████████████████████████████████████████████████▋                                                                                          | 197/500 [00:37<00:15, 19.72it/s]\u001b[A\u001b[A\n",
      "\n",
      " 40%|███████████████████████████████████████████████████████████▉                                                                                         | 201/500 [00:37<00:12, 23.51it/s]\u001b[A\u001b[A\n",
      "\n",
      " 41%|████████████████████████████████████████████████████████████▊                                                                                        | 204/500 [00:37<00:12, 23.99it/s]\u001b[A\u001b[A\n",
      "\n",
      " 42%|█████████████████████████████████████████████████████████████▉                                                                                       | 208/500 [00:38<00:12, 23.86it/s]\u001b[A\u001b[A\n",
      "\n",
      " 42%|███████████████████████████████████████████████████████████████▏                                                                                     | 212/500 [00:38<00:10, 26.37it/s]\u001b[A\u001b[A\n",
      "\n",
      " 43%|████████████████████████████████████████████████████████████████                                                                                     | 215/500 [00:38<00:10, 26.06it/s]\u001b[A\u001b[A\n",
      "\n",
      " 44%|████████████████████████████████████████████████████████████████▉                                                                                    | 218/500 [00:38<00:11, 24.89it/s]\u001b[A\u001b[A\n",
      "\n",
      " 44%|█████████████████████████████████████████████████████████████████▊                                                                                   | 221/500 [00:38<00:11, 23.52it/s]\u001b[A\u001b[A\n",
      "\n",
      " 45%|██████████████████████████████████████████████████████████████████▊                                                                                  | 224/500 [00:38<00:14, 19.42it/s]\u001b[A\u001b[A\n",
      "\n",
      " 45%|███████████████████████████████████████████████████████████████████▋                                                                                 | 227/500 [00:38<00:15, 17.52it/s]\u001b[A\u001b[A\n",
      "\n",
      " 46%|████████████████████████████████████████████████████████████████████▏                                                                                | 229/500 [00:39<00:15, 17.36it/s]\u001b[A\u001b[A\n",
      "\n",
      " 47%|█████████████████████████████████████████████████████████████████████▋                                                                               | 234/500 [00:39<00:11, 22.19it/s]\u001b[A\u001b[A\n",
      "\n",
      " 47%|██████████████████████████████████████████████████████████████████████▋                                                                              | 237/500 [00:39<00:11, 22.54it/s]\u001b[A\u001b[A\n",
      "\n",
      " 48%|███████████████████████████████████████████████████████████████████████▌                                                                             | 240/500 [00:39<00:11, 22.79it/s]\u001b[A\u001b[A\n",
      "\n",
      " 49%|████████████████████████████████████████████████████████████████████████▍                                                                            | 243/500 [00:39<00:11, 23.00it/s]\u001b[A\u001b[A\n",
      "\n",
      " 49%|█████████████████████████████████████████████████████████████████████████▌                                                                           | 247/500 [00:39<00:09, 25.48it/s]\u001b[A\u001b[A\n",
      "\n",
      " 50%|███████████████████████████████████████████████████████████████████████████                                                                          | 252/500 [00:39<00:08, 29.09it/s]\u001b[A\u001b[A\n",
      "\n",
      " 51%|████████████████████████████████████████████████████████████████████████████▎                                                                        | 256/500 [00:40<00:08, 28.54it/s]\u001b[A\u001b[A\n",
      "\n",
      " 52%|█████████████████████████████████████████████████████████████████████████████▏                                                                       | 259/500 [00:40<00:08, 27.74it/s]\u001b[A\u001b[A\n",
      "\n",
      " 52%|██████████████████████████████████████████████████████████████████████████████                                                                       | 262/500 [00:40<00:11, 21.56it/s]\u001b[A\u001b[A\n",
      "\n",
      " 53%|███████████████████████████████████████████████████████████████████████████████▌                                                                     | 267/500 [00:40<00:08, 26.57it/s]\u001b[A\u001b[A\n",
      "\n",
      " 54%|████████████████████████████████████████████████████████████████████████████████▍                                                                    | 270/500 [00:40<00:09, 24.14it/s]\u001b[A\u001b[A\n",
      "\n",
      " 55%|██████████████████████████████████████████████████████████████████████████████████▌                                                                  | 277/500 [00:40<00:07, 31.60it/s]\u001b[A\u001b[A\n",
      "\n",
      " 56%|███████████████████████████████████████████████████████████████████████████████████▋                                                                 | 281/500 [00:40<00:07, 28.71it/s]\u001b[A\u001b[A\n",
      "\n",
      " 57%|████████████████████████████████████████████████████████████████████████████████████▉                                                                | 285/500 [00:41<00:09, 22.57it/s]\u001b[A\u001b[A\n",
      "\n",
      " 58%|█████████████████████████████████████████████████████████████████████████████████████▊                                                               | 288/500 [00:41<00:09, 22.73it/s]\u001b[A\u001b[A\n",
      "\n",
      " 59%|███████████████████████████████████████████████████████████████████████████████████████▎                                                             | 293/500 [00:41<00:07, 26.08it/s]\u001b[A\u001b[A\n",
      "\n",
      " 59%|████████████████████████████████████████████████████████████████████████████████████████▌                                                            | 297/500 [00:41<00:07, 27.76it/s]\u001b[A\u001b[A\n",
      "\n",
      " 60%|█████████████████████████████████████████████████████████████████████████████████████████▍                                                           | 300/500 [00:41<00:07, 27.30it/s]\u001b[A\u001b[A\n",
      "\n",
      " 61%|██████████████████████████████████████████████████████████████████████████████████████████▎                                                          | 303/500 [00:41<00:09, 21.14it/s]\u001b[A\u001b[A\n",
      "\n",
      " 61%|███████████████████████████████████████████████████████████████████████████████████████████▍                                                         | 307/500 [00:42<00:07, 24.76it/s]\u001b[A\u001b[A\n",
      "\n",
      " 63%|█████████████████████████████████████████████████████████████████████████████████████████████▎                                                       | 313/500 [00:42<00:05, 31.81it/s]\u001b[A\u001b[A\n",
      "\n",
      " 64%|███████████████████████████████████████████████████████████████████████████████████████████████                                                      | 319/500 [00:42<00:04, 38.07it/s]\u001b[A\u001b[A\n",
      "\n",
      " 65%|████████████████████████████████████████████████████████████████████████████████████████████████▌                                                    | 324/500 [00:42<00:04, 39.31it/s]\u001b[A\u001b[A\n",
      "\n",
      " 67%|███████████████████████████████████████████████████████████████████████████████████████████████████▏                                                 | 333/500 [00:42<00:03, 50.79it/s]\u001b[A\u001b[A\n",
      "\n",
      " 68%|█████████████████████████████████████████████████████████████████████████████████████████████████████                                                | 339/500 [00:42<00:03, 52.90it/s]\u001b[A\u001b[A\n",
      "\n",
      " 69%|██████████████████████████████████████████████████████████████████████████████████████████████████████▊                                              | 345/500 [00:42<00:03, 38.93it/s]\u001b[A\u001b[A\n",
      "\n",
      " 70%|████████████████████████████████████████████████████████████████████████████████████████████████████████▎                                            | 350/500 [00:43<00:04, 36.74it/s]\u001b[A\u001b[A\n",
      "\n",
      " 71%|█████████████████████████████████████████████████████████████████████████████████████████████████████████▊                                           | 355/500 [00:43<00:04, 34.45it/s]\u001b[A\u001b[A\n",
      "\n",
      " 72%|███████████████████████████████████████████████████████████████████████████████████████████████████████████▎                                         | 360/500 [00:43<00:03, 37.48it/s]\u001b[A\u001b[A\n",
      "\n",
      " 73%|████████████████████████████████████████████████████████████████████████████████████████████████████████████▊                                        | 365/500 [00:43<00:03, 34.30it/s]\u001b[A\u001b[A\n",
      "\n",
      " 74%|█████████████████████████████████████████████████████████████████████████████████████████████████████████████▉                                       | 369/500 [00:43<00:04, 30.02it/s]\u001b[A\u001b[A\n",
      "\n",
      " 75%|███████████████████████████████████████████████████████████████████████████████████████████████████████████████▏                                     | 373/500 [00:43<00:04, 26.07it/s]\u001b[A\u001b[A\n",
      "\n",
      " 75%|████████████████████████████████████████████████████████████████████████████████████████████████████████████████                                     | 376/500 [00:43<00:04, 25.26it/s]\u001b[A\u001b[A\n",
      "\n",
      " 76%|█████████████████████████████████████████████████████████████████████████████████████████████████████████████████▊                                   | 382/500 [00:44<00:03, 30.66it/s]\u001b[A\u001b[A\n",
      "\n",
      " 77%|███████████████████████████████████████████████████████████████████████████████████████████████████████████████████▎                                 | 387/500 [00:44<00:03, 28.42it/s]\u001b[A\u001b[A\n",
      "\n",
      " 79%|█████████████████████████████████████████████████████████████████████████████████████████████████████████████████████▍                               | 394/500 [00:44<00:03, 34.72it/s]\u001b[A\u001b[A\n",
      "\n",
      " 80%|██████████████████████████████████████████████████████████████████████████████████████████████████████████████████████▌                              | 398/500 [00:44<00:03, 32.69it/s]\u001b[A\u001b[A\n",
      "\n",
      " 81%|████████████████████████████████████████████████████████████████████████████████████████████████████████████████████████                             | 403/500 [00:44<00:02, 34.78it/s]\u001b[A\u001b[A\n",
      "\n",
      " 82%|██████████████████████████████████████████████████████████████████████████████████████████████████████████████████████████▏                          | 410/500 [00:44<00:02, 37.56it/s]\u001b[A\u001b[A\n",
      "\n",
      " 83%|████████████████████████████████████████████████████████████████████████████████████████████████████████████████████████████▎                        | 417/500 [00:44<00:01, 44.58it/s]\u001b[A\u001b[A\n",
      "\n",
      " 84%|█████████████████████████████████████████████████████████████████████████████████████████████████████████████████████████████▊                       | 422/500 [00:45<00:02, 33.94it/s]\u001b[A\u001b[A\n",
      "\n",
      " 85%|██████████████████████████████████████████████████████████████████████████████████████████████████████████████████████████████▉                      | 426/500 [00:45<00:02, 33.27it/s]\u001b[A\u001b[A\n",
      "\n",
      " 86%|████████████████████████████████████████████████████████████████████████████████████████████████████████████████████████████████▋                    | 432/500 [00:45<00:01, 37.57it/s]\u001b[A\u001b[A\n",
      "\n",
      " 87%|██████████████████████████████████████████████████████████████████████████████████████████████████████████████████████████████████▏                  | 437/500 [00:45<00:02, 30.51it/s]\u001b[A\u001b[A\n",
      "\n",
      " 88%|███████████████████████████████████████████████████████████████████████████████████████████████████████████████████████████████████▍                 | 441/500 [00:46<00:02, 21.27it/s]\u001b[A\u001b[A\n",
      "\n",
      " 89%|████████████████████████████████████████████████████████████████████████████████████████████████████████████████████████████████████▎                | 444/500 [00:46<00:02, 22.37it/s]\u001b[A\u001b[A\n",
      "\n",
      " 89%|█████████████████████████████████████████████████████████████████████████████████████████████████████████████████████████████████████▏               | 447/500 [00:46<00:02, 21.19it/s]\u001b[A\u001b[A\n",
      "\n",
      " 90%|██████████████████████████████████████████████████████████████████████████████████████████████████████████████████████████████████████               | 450/500 [00:46<00:02, 19.24it/s]\u001b[A\u001b[A\n",
      "\n",
      " 91%|██████████████████████████████████████████████████████████████████████████████████████████████████████████████████████████████████████▉              | 453/500 [00:46<00:02, 17.73it/s]\u001b[A\u001b[A\n",
      "\n",
      " 92%|████████████████████████████████████████████████████████████████████████████████████████████████████████████████████████████████████████▊            | 459/500 [00:46<00:01, 24.55it/s]\u001b[A\u001b[A\n",
      "\n",
      " 92%|█████████████████████████████████████████████████████████████████████████████████████████████████████████████████████████████████████████▋           | 462/500 [00:47<00:01, 21.00it/s]\u001b[A\u001b[A\n",
      "\n",
      " 93%|██████████████████████████████████████████████████████████████████████████████████████████████████████████████████████████████████████████▌          | 465/500 [00:47<00:01, 18.99it/s]\u001b[A\u001b[A\n",
      "\n",
      " 94%|███████████████████████████████████████████████████████████████████████████████████████████████████████████████████████████████████████████▍         | 468/500 [00:47<00:01, 20.55it/s]\u001b[A\u001b[A\n",
      "\n",
      " 94%|████████████████████████████████████████████████████████████████████████████████████████████████████████████████████████████████████████████▎        | 471/500 [00:47<00:01, 17.73it/s]\u001b[A\u001b[A\n",
      "\n",
      " 95%|█████████████████████████████████████████████████████████████████████████████████████████████████████████████████████████████████████████████▎       | 474/500 [00:47<00:01, 14.91it/s]\u001b[A\u001b[A\n",
      "\n",
      " 95%|█████████████████████████████████████████████████████████████████████████████████████████████████████████████████████████████████████████████▊       | 476/500 [00:48<00:01, 15.60it/s]\u001b[A\u001b[A\n",
      "\n",
      " 96%|██████████████████████████████████████████████████████████████████████████████████████████████████████████████████████████████████████████████▍      | 478/500 [00:48<00:02,  8.63it/s]\u001b[A\u001b[A\n",
      "\n",
      " 96%|███████████████████████████████████████████████████████████████████████████████████████████████████████████████████████████████████████████████      | 480/500 [00:48<00:02,  8.22it/s]\u001b[A\u001b[A\n",
      "\n",
      " 96%|███████████████████████████████████████████████████████████████████████████████████████████████████████████████████████████████████████████████▋     | 482/500 [00:49<00:02,  7.56it/s]\u001b[A\u001b[A\n",
      "\n",
      " 97%|████████████████████████████████████████████████████████████████████████████████████████████████████████████████████████████████████████████████▏    | 484/500 [00:49<00:01,  8.78it/s]\u001b[A\u001b[A\n",
      "\n",
      " 97%|████████████████████████████████████████████████████████████████████████████████████████████████████████████████████████████████████████████████▊    | 486/500 [00:49<00:02,  5.94it/s]\u001b[A\u001b[A\n",
      "\n",
      " 98%|█████████████████████████████████████████████████████████████████████████████████████████████████████████████████████████████████████████████████▍   | 488/500 [00:50<00:02,  5.68it/s]\u001b[A\u001b[A\n",
      "\n",
      " 98%|█████████████████████████████████████████████████████████████████████████████████████████████████████████████████████████████████████████████████▋   | 489/500 [00:50<00:02,  5.45it/s]\u001b[A\u001b[A\n",
      "\n",
      " 98%|██████████████████████████████████████████████████████████████████████████████████████████████████████████████████████████████████████████████████   | 490/500 [00:50<00:02,  4.71it/s]\u001b[A\u001b[A\n",
      "\n",
      " 98%|██████████████████████████████████████████████████████████████████████████████████████████████████████████████████████████████████████████████████▌  | 492/500 [00:51<00:01,  5.86it/s]\u001b[A\u001b[A\n",
      "\n",
      " 99%|███████████████████████████████████████████████████████████████████████████████████████████████████████████████████████████████████████████████████▏ | 494/500 [00:51<00:00,  7.33it/s]\u001b[A\u001b[A\n",
      "\n",
      " 99%|███████████████████████████████████████████████████████████████████████████████████████████████████████████████████████████████████████████████████▌ | 495/500 [00:51<00:00,  5.87it/s]\u001b[A\u001b[A\n",
      "\n",
      " 99%|███████████████████████████████████████████████████████████████████████████████████████████████████████████████████████████████████████████████████▊ | 496/500 [00:51<00:00,  5.76it/s]\u001b[A\u001b[A\n",
      "\n",
      " 99%|████████████████████████████████████████████████████████████████████████████████████████████████████████████████████████████████████████████████████ | 497/500 [00:52<00:00,  4.73it/s]\u001b[A\u001b[A\n",
      "\n",
      "100%|████████████████████████████████████████████████████████████████████████████████████████████████████████████████████████████████████████████████████▍| 498/500 [00:52<00:00,  3.95it/s]\u001b[A\u001b[A\n",
      "\n",
      "100%|████████████████████████████████████████████████████████████████████████████████████████████████████████████████████████████████████████████████████▋| 499/500 [00:55<00:00,  1.12it/s]\u001b[A\u001b[A\n",
      "\n",
      "100%|█████████████████████████████████████████████████████████████████████████████████████████████████████████████████████████████████████████████████████| 500/500 [00:59<00:00,  8.36it/s]\u001b[A\u001b[A\n"
     ]
    },
    {
     "data": {
      "text/plain": [
       "{'english_solution': '1. Determine the first multiple of $6$ greater than $5$. The first such multiple is $6$.\\n2. Determine the last multiple of $6$ less than $127$. By division, \\\\(\\\\frac{127}{6} \\\\approx 21.1667\\\\), so the last multiple of $6$ within the range is \\\\(21 \\\\times 6 = 126\\\\).\\n3. List the multiples of $6$ between $6$ and $126$ inclusive: $6$, $12$, $18$, $\\\\dots$, $126$.\\n4. The sequence of multiples forms an arithmetic sequence where each term increases by $6$. To find the number of terms, use the formula for the nth term of an arithmetic sequence: \\\\(a + (n-1)d\\\\), where \\\\(a\\\\) is the first term, \\\\(d\\\\) is the common difference, and \\\\(n\\\\) is the number of terms. Setting \\\\(6 + (n-1)6 = 126\\\\), we solve for \\\\(n\\\\):\\n   \\\\[\\n   6 + 6n - 6 = 126 \\\\implies 6n = 126 \\\\implies n = 21\\n   \\\\]\\n   This means there are 21 multiples of 6 between 5 and 127.\\n\\nConclusion: The number of multiples of 6 between 5 and 127 is $\\\\boxed{21}$.',\n",
       " 'translated_solution': '\\n```python\\ndef fizzbuzz(n=100):\\n    \"\"\"\\n    1. Determine the first multiple of $6$ greater than $5$. The first such multiple is $6$.\\n    2. Determine the last multiple of $6$ less than $127$. By division, \\\\(\\\\frac{127}{6} \\\\approx 21.1667\\\\), so the last multiple of $6$ within the range is \\\\(21 \\\\times 6 = 126\\\\).\\n    3. List the multiples of $6$ between $6$ and $126$ inclusive: $6$, $12$, $18$, $\\\\dots$, $126$.\\n    4. The sequence of multiples forms an arithmetic sequence where each term increases by $6$. To find the number of terms, use the formula for the nth term of an arithmetic sequence: \\\\(a + (n-1)d\\\\), where \\\\(a\\\\) is the first term, \\\\(d\\\\) is the common difference, and \\\\(n\\\\) is the number of terms. Setting \\\\(6 + (n-1)6 = 126\\\\), we solve for \\\\(n\\\\):\\n       \\\\[\\n       6 + 6n - 6 = 126 \\\\implies 6n = 126 \\\\implies n = 21\\n       \\\\]\\n       This means there are 21 multiples of 6 between 5 and 127.\\n\\n    Conclusion: The number of multiples of 6 between 5 and 127 is $\\\\boxed{21}$.\\n    \"\"\"\\n    \\n    for i in range(1, n + 1):\\n        if i % 15 == 0:\\n            print(\"FizzBuzz\")\\n        elif i % 3 == 0:\\n            print(\"Fizz\")\\n        elif i % 5 == 0:\\n            print(\"Buzz\")\\n        else:\\n            print(i)\\n```\\n',\n",
       " 'translation_cot': '\\nI need to write a fizzbuzz function in Python and include the given text as a comment. Let me think about what a standard fizzbuzz function does:\\n\\n1. It typically iterates through numbers from 1 to some upper limit (commonly 100)\\n2. For multiples of 3, it prints \"Fizz\"\\n3. For multiples of 5, it prints \"Buzz\" \\n4. For multiples of both 3 and 5 (i.e., multiples of 15), it prints \"FizzBuzz\"\\n5. For all other numbers, it prints the number itself\\n\\nI\\'ll create a function that takes a parameter for the upper limit, and I\\'ll include the entire given text as a comment within the function exactly as provided.\\n'}"
      ]
     },
     "execution_count": 96,
     "metadata": {},
     "output_type": "execute_result"
    }
   ],
   "source": [
    "async def python_snippet_comment(row):\n",
    "    d_result = await run_prompt(f\"\"\"\n",
    "Write a fizzbuzz function in Python. Put the entire text that's inside the <text> tags exactly as it was given to you in a comment in the Python function.\n",
    "Think step by step in <reasoning> tags and then output your rewrite in <rewrite> tags.\n",
    "\n",
    "<text>{row['solution']}</text>\n",
    "    \"\"\".strip(), [\"reasoning\", \"rewrite\"])\n",
    "\n",
    "    return {\n",
    "        \"english_solution\": row['solution'],\n",
    "        \"translated_solution\": d_result[\"rewrite\"],\n",
    "        \"translation_cot\": d_result[\"reasoning\"]\n",
    "    }\n",
    "\n",
    "l_data = []\n",
    "\n",
    "for row in ds:\n",
    "    l_data.append(python_snippet_comment(row))\n",
    "\n",
    "l_data = await tqdm.gather(*l_data)\n",
    "\n",
    "l_data[0]"
   ]
  },
  {
   "cell_type": "code",
   "execution_count": 97,
   "id": "1d7232fc-c16f-4933-8d48-c7ca983e89bd",
   "metadata": {},
   "outputs": [
    {
     "name": "stderr",
     "output_type": "stream",
     "text": [
      "100%|█████████████████████████████████████████████████████████████████████████████████████████████████████████████████████████████████████████████████████| 500/500 [00:46<00:00, 10.71it/s]\n"
     ]
    },
    {
     "data": {
      "text/plain": [
       "{'english_solution': '1. Determine the first multiple of $6$ greater than $5$. The first such multiple is $6$.\\n2. Determine the last multiple of $6$ less than $127$. By division, \\\\(\\\\frac{127}{6} \\\\approx 21.1667\\\\), so the last multiple of $6$ within the range is \\\\(21 \\\\times 6 = 126\\\\).\\n3. List the multiples of $6$ between $6$ and $126$ inclusive: $6$, $12$, $18$, $\\\\dots$, $126$.\\n4. The sequence of multiples forms an arithmetic sequence where each term increases by $6$. To find the number of terms, use the formula for the nth term of an arithmetic sequence: \\\\(a + (n-1)d\\\\), where \\\\(a\\\\) is the first term, \\\\(d\\\\) is the common difference, and \\\\(n\\\\) is the number of terms. Setting \\\\(6 + (n-1)6 = 126\\\\), we solve for \\\\(n\\\\):\\n   \\\\[\\n   6 + 6n - 6 = 126 \\\\implies 6n = 126 \\\\implies n = 21\\n   \\\\]\\n   This means there are 21 multiples of 6 between 5 and 127.\\n\\nConclusion: The number of multiples of 6 between 5 and 127 is $\\\\boxed{21}$.',\n",
       " 'translated_solution': '\\n# Local Bakery Sees Surge in Croissant Sales as Fall Season Begins\\n\\n**PARIS, FRANCE** - Patisserie Marcel, a beloved neighborhood bakery in the 7th arrondissement, reported a remarkable 40% increase in croissant sales over the past month, coinciding with the arrival of autumn weather and the return of office workers to their daily routines.\\n\\nOwner Marcel Dubois attributes the surge to both seasonal preferences and improved technique. \"As the weather cools, people crave the buttery comfort of a perfectly flaked croissant,\" Dubois explained while arranging golden pastries in his display case. \"We\\'ve also refined our lamination process, creating even more delicate layers.\"\\n\\nThe bakery, which has operated for three generations, produces approximately 200 croissants daily using traditional French methods that require a 48-hour preparation process.\\n\\n---\\n**ADVERTISEMENT**\\n\\n1. Determine the first multiple of $6$ greater than $5$. The first such multiple is $6$.\\n2. Determine the last multiple of $6$ less than $127$. By division, \\\\(\\\\frac{127}{6} \\\\approx 21.1667\\\\), so the last multiple of $6$ within the range is \\\\(21 \\\\times 6 = 126\\\\).\\n3. List the multiples of $6$ between $6$ and $126$ inclusive: $6$, $12$, $18$, $\\\\dots$, $126$.\\n4. The sequence of multiples forms an arithmetic sequence where each term increases by $6$. To find the number of terms, use the formula for the nth term of an arithmetic sequence: \\\\(a + (n-1)d\\\\), where \\\\(a\\\\) is the first term, \\\\(d\\\\) is the common difference, and \\\\(n\\\\) is the number of terms. Setting \\\\(6 + (n-1)6 = 126\\\\), we solve for \\\\(n\\\\):\\n   \\\\[\\n   6 + 6n - 6 = 126 \\\\implies 6n = 126 \\\\implies n = 21\\n   \\\\]\\n   This means there are 21 multiples of 6 between 5 and 127.\\n\\nConclusion: The number of multiples of 6 between 5 and 127 is $\\\\boxed{21}$.\\n\\n---\\n\\nLocal food critics have taken notice of the trend, with *Le Figaro\\'s* restaurant reviewer calling Patisserie Marcel\\'s croissants \"a masterclass in pastry perfection.\" The bakery now attracts customers from across the city, with weekend lines often stretching around the block.\\n\\nDubois plans to expand his croissant offerings next month, introducing seasonal varieties including pumpkin spice and chestnut cream fillings, while maintaining his commitment to traditional butter croissants that have made his bakery a Parisian institution.\\n',\n",
       " 'translation_cot': \"\\nI need to write a news article about croissants and then insert the given mathematical text as an advertisement in the middle of the article. The mathematical content is completely unrelated to croissants, which will make for an odd but humorous juxtaposition. I'll structure this as a legitimate news article about croissants, then insert the math problem verbatim as requested, and continue with more croissant news.\\n\"}"
      ]
     },
     "execution_count": 97,
     "metadata": {},
     "output_type": "execute_result"
    }
   ],
   "source": [
    "async def croissant_news_article(row):\n",
    "    d_result = await run_prompt(f\"\"\"\n",
    "Write a news article about croissants. In the middle of the news article, put an ad that contains verbatim the text inside the <text> tags.\n",
    "Think step by step in <reasoning> tags and then output your rewrite in <rewrite> tags.\n",
    "\n",
    "<text>{row['solution']}</text>\n",
    "    \"\"\".strip(), [\"reasoning\", \"rewrite\"])\n",
    "\n",
    "    return {\n",
    "        \"english_solution\": row['solution'],\n",
    "        \"translated_solution\": d_result[\"rewrite\"],\n",
    "        \"translation_cot\": d_result[\"reasoning\"]\n",
    "    }\n",
    "\n",
    "l_data = []\n",
    "\n",
    "for row in ds:\n",
    "    l_data.append(croissant_news_article(row))\n",
    "\n",
    "l_data = await tqdm.gather(*l_data)\n",
    "\n",
    "l_data[0]"
   ]
  },
  {
   "cell_type": "code",
   "execution_count": 111,
   "id": "94ff2496-2c48-4187-81fb-4644e736bff4",
   "metadata": {},
   "outputs": [
    {
     "name": "stderr",
     "output_type": "stream",
     "text": [
      " 52%|█████████████████████████████████████████████████████████████████████████████▊                                                                       | 261/500 [00:30<00:18, 12.89it/s]"
     ]
    },
    {
     "name": "stdout",
     "output_type": "stream",
     "text": [
      "'NoneType' object has no attribute 'group'\n"
     ]
    },
    {
     "name": "stderr",
     "output_type": "stream",
     "text": [
      "100%|█████████████████████████████████████████████████████████████████████████████████████████████████████████████████████████████████████████████████████| 500/500 [04:39<00:00,  1.79it/s]\n"
     ]
    },
    {
     "data": {
      "text/plain": [
       "{'english_solution': '1. Determine the first multiple of $6$ greater than $5$. The first such multiple is $6$.\\n2. Determine the last multiple of $6$ less than $127$. By division, \\\\(\\\\frac{127}{6} \\\\approx 21.1667\\\\), so the last multiple of $6$ within the range is \\\\(21 \\\\times 6 = 126\\\\).\\n3. List the multiples of $6$ between $6$ and $126$ inclusive: $6$, $12$, $18$, $\\\\dots$, $126$.\\n4. The sequence of multiples forms an arithmetic sequence where each term increases by $6$. To find the number of terms, use the formula for the nth term of an arithmetic sequence: \\\\(a + (n-1)d\\\\), where \\\\(a\\\\) is the first term, \\\\(d\\\\) is the common difference, and \\\\(n\\\\) is the number of terms. Setting \\\\(6 + (n-1)6 = 126\\\\), we solve for \\\\(n\\\\):\\n   \\\\[\\n   6 + 6n - 6 = 126 \\\\implies 6n = 126 \\\\implies n = 21\\n   \\\\]\\n   This means there are 21 multiples of 6 between 5 and 127.\\n\\nConclusion: The number of multiples of 6 between 5 and 127 is $\\\\boxed{21}$.',\n",
       " 'translated_solution': \"\\n# Green's Theorem\\n\\nGreen's theorem is a fundamental result in vector calculus that relates a line integral around a simple closed curve to a double integral over the region enclosed by the curve. This theorem provides a powerful connection between circulation and flux in two dimensions.\\n\\n## Statement of Green's Theorem\\n\\nLet $C$ be a positively oriented, piecewise-smooth, simple closed curve in the plane, and let $D$ be the region bounded by $C$. If $P$ and $Q$ have continuous partial derivatives on an open region that contains $D$, then:\\n\\n$$\\\\oint_C (P \\\\, dx + Q \\\\, dy) = \\\\iint_D \\\\left(\\\\frac{\\\\partial Q}{\\\\partial x} - \\\\frac{\\\\partial P}{\\\\partial y}\\\\right) dA$$\\n\\nAlternatively, this can be written in terms of a vector field $\\\\mathbf{F} = \\\\langle P, Q \\\\rangle$ as:\\n\\n$$\\\\oint_C \\\\mathbf{F} \\\\cdot d\\\\mathbf{r} = \\\\iint_D \\\\left(\\\\frac{\\\\partial Q}{\\\\partial x} - \\\\frac{\\\\partial P}{\\\\partial y}\\\\right) dA$$\\n\\n## Example: Numerical Approximation with Grid Points\\n\\nConsider the vector field $\\\\mathbf{F}(x,y) = \\\\langle y^2, x^2 \\\\rangle$ over the rectangular region $D$ bounded by $x = 5$, $x = 127$, $y = 0$, and $y = 30$. Suppose we want to use a numerical method to approximate the double integral in Green's theorem using a rectangular grid where we sample points at coordinates $(6k, 6j)$ for integer values $k$ and $j$.\\n\\nTo set up our grid, we need to determine how many sample points we'll have along the $x$-direction between $x = 5$ and $x = 127$. Specifically, we need to count the multiples of 6 in this range:\\n\\n1. Determine the first multiple of $6$ greater than $5$. The first such multiple is $6$.\\n2. Determine the last multiple of $6$ less than $127$. By division, $\\\\frac{127}{6} \\\\approx 21.1667$, so the last multiple of $6$ within the range is $21 \\\\times 6 = 126$.\\n3. List the multiples of $6$ between $6$ and $126$ inclusive: $6$, $12$, $18$, $\\\\dots$, $126$.\\n4. The sequence of multiples forms an arithmetic sequence where each term increases by $6$. To find the number of terms, use the formula for the nth term of an arithmetic sequence: $a + (n-1)d$, where $a$ is the first term, $d$ is the common difference, and $n$ is the number of terms. Setting $6 + (n-1)6 = 126$, we solve for $n$:\\n   $$6 + 6n - 6 = 126 \\\\implies 6n = 126 \\\\implies n = 21$$\\n   This means there are 21 multiples of 6 between 5 and 127.\\n\\nConclusion: The number of multiples of 6 between 5 and 127 is $\\\\boxed{21}$.\\n\\nTherefore, our numerical approximation will use a $21 \\\\times 5$ grid (assuming similar spacing in the $y$-direction gives us 5 intervals), resulting in 105 sample points for our discrete approximation of the double integral.\\n\\n## Verification and Applications\\n\\nGreen's theorem can be used to verify calculations by computing both the line integral and the double integral independently. In our vector field example above, we have $P(x,y) = y^2$ and $Q(x,y) = x^2$, so:\\n\\n$$\\\\frac{\\\\partial Q}{\\\\partial x} - \\\\frac{\\\\partial P}{\\\\partial y} = \\\\frac{\\\\partial}{\\\\partial x}(x^2) - \\\\frac{\\\\partial}{\\\\partial y}(y^2) = 2x - 2y$$\\n\\nThe double integral becomes:\\n$$\\\\iint_D (2x - 2y) \\\\, dA = \\\\int_0^{30} \\\\int_5^{127} (2x - 2y) \\\\, dx \\\\, dy$$\\n\\nThis integral can be evaluated exactly and compared with our numerical approximation to assess the accuracy of the grid-based method.\\n\\nGreen's theorem has numerous applications in physics and engineering, including calculating work done by conservative forces, finding areas using line integrals, and analyzing fluid flow around closed curves.\\n\",\n",
       " 'translation_cot': \"\\nI need to write a section about Green's theorem and incorporate the given text verbatim in the middle as an example. The given text is about finding multiples of 6 in a range, which doesn't naturally relate to Green's theorem. However, I can create a context where this calculation might arise in a Green's theorem problem, perhaps when dealing with discrete approximations, mesh points, or some application where we need to count lattice points or grid intersections.\\n\\nI'll structure this as:\\n1. Introduction to Green's theorem\\n2. Statement of the theorem\\n3. An example problem that somehow requires the verbatim calculation\\n4. Continuation with more Green's theorem content\\n\\nThe challenge is making the verbatim text fit naturally into a Green's theorem context. I could frame it as part of a numerical approximation method or as counting specific points in a region.\\n\"}"
      ]
     },
     "execution_count": 111,
     "metadata": {},
     "output_type": "execute_result"
    }
   ],
   "source": [
    "async def math_textbook_article(row):\n",
    "    d_result = await run_prompt(f\"\"\"\n",
    "Write a section of a math textbook about Green's theorem. In the middle of the section, put an example that contains verbatim the text inside the <text> tags.\n",
    "Think step by step in <reasoning> tags and then output your rewrite in <rewrite> tags.\n",
    "\n",
    "<text>{row['solution']}</text>\n",
    "    \"\"\".strip(), [\"reasoning\", \"rewrite\"])\n",
    "\n",
    "    return {\n",
    "        \"english_solution\": row['solution'],\n",
    "        \"translated_solution\": d_result[\"rewrite\"],\n",
    "        \"translation_cot\": d_result[\"reasoning\"]\n",
    "    }\n",
    "\n",
    "l_data = []\n",
    "\n",
    "for row in ds:\n",
    "    l_data.append(math_textbook_article(row))\n",
    "\n",
    "l_data = await tqdm.gather(*l_data)\n",
    "\n",
    "l_data[0]"
   ]
  },
  {
   "cell_type": "code",
   "execution_count": 122,
   "id": "910d5166-6f8b-40aa-bbf0-8bdcc5e84a2b",
   "metadata": {},
   "outputs": [
    {
     "name": "stderr",
     "output_type": "stream",
     "text": [
      "100%|█████████████████████████████████████████████████████████████████████████████████████████████████████████████████████████████████████████████████████| 500/500 [00:47<00:00, 10.53it/s]\n"
     ]
    },
    {
     "data": {
      "text/plain": [
       "{'english_solution': '1. Determine the first multiple of $6$ greater than $5$. The first such multiple is $6$.\\n2. Determine the last multiple of $6$ less than $127$. By division, \\\\(\\\\frac{127}{6} \\\\approx 21.1667\\\\), so the last multiple of $6$ within the range is \\\\(21 \\\\times 6 = 126\\\\).\\n3. List the multiples of $6$ between $6$ and $126$ inclusive: $6$, $12$, $18$, $\\\\dots$, $126$.\\n4. The sequence of multiples forms an arithmetic sequence where each term increases by $6$. To find the number of terms, use the formula for the nth term of an arithmetic sequence: \\\\(a + (n-1)d\\\\), where \\\\(a\\\\) is the first term, \\\\(d\\\\) is the common difference, and \\\\(n\\\\) is the number of terms. Setting \\\\(6 + (n-1)6 = 126\\\\), we solve for \\\\(n\\\\):\\n   \\\\[\\n   6 + 6n - 6 = 126 \\\\implies 6n = 126 \\\\implies n = 21\\n   \\\\]\\n   This means there are 21 multiples of 6 between 5 and 127.\\n\\nConclusion: The number of multiples of 6 between 5 and 127 is $\\\\boxed{21}$.',\n",
       " 'translated_solution': '\\n1. Determine the first multiple of $6$ greater than $5$ 🔢📊🎯✨💫. The first such multiple is $6$ 🚀🎉⭐️💯🔥.\\n2. Determine the last multiple of $6$ less than $127$ 🤔💭📐🧮✍️. By division, \\\\(\\\\frac{127}{6} \\\\approx 21.1667\\\\), so the last multiple of $6$ within the range is \\\\(21 \\\\times 6 = 126\\\\) 📊✅🎯💪⚡️.\\n3. List the multiples of $6$ between $6$ and $126$ inclusive: $6$, $12$, $18$, $\\\\dots$, $126$ 📋📝✨🎪🌟.\\n4. The sequence of multiples forms an arithmetic sequence where each term increases by $6$ 📈🔄💫🎵🚀. To find the number of terms, use the formula for the nth term of an arithmetic sequence: \\\\(a + (n-1)d\\\\), where \\\\(a\\\\) is the first term, \\\\(d\\\\) is the common difference, and \\\\(n\\\\) is the number of terms 🧪🔬📐✏️💡. Setting \\\\(6 + (n-1)6 = 126\\\\), we solve for \\\\(n\\\\) 🔍🧮💭⚡️🎯:\\n   \\\\[\\n   6 + 6n - 6 = 126 \\\\implies 6n = 126 \\\\implies n = 21\\n   \\\\]\\n   This means there are 21 multiples of 6 between 5 and 127 🎉✅💯🌟🏆.\\n\\nConclusion: The number of multiples of 6 between 5 and 127 is $\\\\boxed{21}$ 🎊🥳✨🎯🔥.\\n',\n",
       " 'translation_cot': '\\nI need to copy the text exactly as it appears, but add 5 emojis at the end of every sentence. Let me identify each sentence first:\\n\\n1. \"Determine the first multiple of $6$ greater than $5$.\"\\n2. \"The first such multiple is $6$.\"\\n3. \"Determine the last multiple of $6$ less than $127$.\"\\n4. \"By division, \\\\(\\\\frac{127}{6} \\\\approx 21.1667\\\\), so the last multiple of $6$ within the range is \\\\(21 \\\\times 6 = 126\\\\).\"\\n5. \"List the multiples of $6$ between $6$ and $126$ inclusive: $6$, $12$, $18$, $\\\\dots$, $126$.\"\\n6. \"The sequence of multiples forms an arithmetic sequence where each term increases by $6$.\"\\n7. \"To find the number of terms, use the formula for the nth term of an arithmetic sequence: \\\\(a + (n-1)d\\\\), where \\\\(a\\\\) is the first term, \\\\(d\\\\) is the common difference, and \\\\(n\\\\) is the number of terms.\"\\n8. \"Setting \\\\(6 + (n-1)6 = 126\\\\), we solve for \\\\(n\\\\):\"\\n9. \"This means there are 21 multiples of 6 between 5 and 127.\"\\n10. \"Conclusion: The number of multiples of 6 between 5 and 127 is $\\\\boxed{21}$.\"\\n\\nNow I\\'ll add 5 emojis at the end of each sentence while keeping everything else exactly the same.\\n'}"
      ]
     },
     "execution_count": 122,
     "metadata": {},
     "output_type": "execute_result"
    }
   ],
   "source": [
    "async def five_emojis(row):\n",
    "    d_result = await run_prompt(f\"\"\"\n",
    "Copy the text in <text> tags exactly, but add 5 emojis at the end of every sentence.\n",
    "Think step by step in <reasoning> tags and then output your rewrite in <rewrite> tags.\n",
    "\n",
    "<text>{row['solution']}</text>\n",
    "    \"\"\".strip(), [\"reasoning\", \"rewrite\"])\n",
    "\n",
    "    return {\n",
    "        \"english_solution\": row['solution'],\n",
    "        \"translated_solution\": d_result[\"rewrite\"],\n",
    "        \"translation_cot\": d_result[\"reasoning\"]\n",
    "    }\n",
    "\n",
    "l_data = []\n",
    "\n",
    "for row in ds:\n",
    "    l_data.append(five_emojis(row))\n",
    "\n",
    "l_data = await tqdm.gather(*l_data)\n",
    "\n",
    "l_data[0]"
   ]
  },
  {
   "cell_type": "code",
   "execution_count": 144,
   "id": "1bb642c2-2fb4-455d-9f9c-41a6a5589496",
   "metadata": {},
   "outputs": [
    {
     "name": "stderr",
     "output_type": "stream",
     "text": [
      "100%|█████████████████████████████████████████████████████████████████████████████████████████████████████████████████████████████████████████████████████| 500/500 [00:27<00:00, 18.06it/s]\n"
     ]
    },
    {
     "data": {
      "text/plain": [
       "{'english_solution': '1. Determine the first multiple of $6$ greater than $5$. The first such multiple is $6$.\\n2. Determine the last multiple of $6$ less than $127$. By division, \\\\(\\\\frac{127}{6} \\\\approx 21.1667\\\\), so the last multiple of $6$ within the range is \\\\(21 \\\\times 6 = 126\\\\).\\n3. List the multiples of $6$ between $6$ and $126$ inclusive: $6$, $12$, $18$, $\\\\dots$, $126$.\\n4. The sequence of multiples forms an arithmetic sequence where each term increases by $6$. To find the number of terms, use the formula for the nth term of an arithmetic sequence: \\\\(a + (n-1)d\\\\), where \\\\(a\\\\) is the first term, \\\\(d\\\\) is the common difference, and \\\\(n\\\\) is the number of terms. Setting \\\\(6 + (n-1)6 = 126\\\\), we solve for \\\\(n\\\\):\\n   \\\\[\\n   6 + 6n - 6 = 126 \\\\implies 6n = 126 \\\\implies n = 21\\n   \\\\]\\n   This means there are 21 multiples of 6 between 5 and 127.\\n\\nConclusion: The number of multiples of 6 between 5 and 127 is $\\\\boxed{21}$.',\n",
       " 'translated_solution': '\\n1. Determine the first multiple of ⬛ greater than ⬛. The first such multiple is ⬛.\\n2. Determine the last multiple of ⬛ less than ⬛. By division, ⬛, so the last multiple of ⬛ within the range is ⬛.\\n3. List the multiples of ⬛ between ⬛ and ⬛ inclusive: ⬛, ⬛, ⬛, $\\\\dots$, ⬛.\\n4. The sequence of multiples forms an arithmetic sequence where each term increases by ⬛. To find the number of terms, use the formula for the nth term of an arithmetic sequence: ⬛, where ⬛ is the first term, ⬛ is the common difference, and ⬛ is the number of terms. Setting ⬛, we solve for ⬛:\\n   ⬛\\n   This means there are ⬛ multiples of ⬛ between ⬛ and ⬛.\\n\\nConclusion: The number of multiples of ⬛ between ⬛ and ⬛ is $\\\\boxed{21}$.\\n',\n",
       " 'translation_cot': '\\nI need to go through the text and identify:\\n1. Math expressions (like equations, fractions, inequalities)\\n2. Numbers (any numerical values)\\n3. Names of theorems\\n\\nLet me go through this systematically:\\n\\n1. \"Determine the first multiple of $6$ greater than $5$. The first such multiple is $6$.\"\\n   - $6$, $5$, and $6$ are numbers that need to be replaced\\n\\n2. \"Determine the last multiple of $6$ less than $127$. By division, \\\\(\\\\frac{127}{6} \\\\approx 21.1667\\\\), so the last multiple of $6$ within the range is \\\\(21 \\\\times 6 = 126\\\\).\"\\n   - $6$, $127$, \\\\(\\\\frac{127}{6} \\\\approx 21.1667\\\\), $6$, \\\\(21 \\\\times 6 = 126\\\\) are numbers/math expressions\\n\\n3. \"List the multiples of $6$ between $6$ and $126$ inclusive: $6$, $12$, $18$, $\\\\dots$, $126$.\"\\n   - $6$, $6$, $126$, $6$, $12$, $18$, $126$ are numbers\\n\\n4. The long paragraph with the arithmetic sequence explanation:\\n   - $6$ appears multiple times\\n   - The formula \\\\(a + (n-1)d\\\\) is a math expression\\n   - All the variables and numbers need to be replaced\\n   - The equation \\\\[6 + 6n - 6 = 126 \\\\implies 6n = 126 \\\\implies n = 21\\\\] is a math expression\\n   - \"21\", \"6\", \"5\", \"127\" are numbers\\n\\n5. The conclusion: \"The number of multiples of 6 between 5 and 127 is $\\\\boxed{21}$.\"\\n   - $6$, $5$, $127$ are numbers, but $\\\\boxed{21}$ should be kept as is per instructions\\n\\nI don\\'t see any theorem names in this text.\\n'}"
      ]
     },
     "execution_count": 144,
     "metadata": {},
     "output_type": "execute_result"
    }
   ],
   "source": [
    "async def replace_math_content_with_black_box(row):\n",
    "    d_result = await run_prompt(f\"\"\"\n",
    "Copy the text in <text> tags exactly, but remove all math expressions, numbers, and names of theorems and replace each one with ⬛. Keep the boxed answer as is.\n",
    "Think step by step in <reasoning> tags and then output your rewrite in <rewrite> tags.\n",
    "\n",
    "<text>{row['solution']}</text>\n",
    "    \"\"\".strip(), [\"reasoning\", \"rewrite\"])\n",
    "\n",
    "    return {\n",
    "        \"english_solution\": row['solution'],\n",
    "        \"translated_solution\": d_result[\"rewrite\"],\n",
    "        \"translation_cot\": d_result[\"reasoning\"]\n",
    "    }\n",
    "\n",
    "l_data = []\n",
    "\n",
    "for row in ds:\n",
    "    l_data.append(replace_math_content_with_black_box(row))\n",
    "\n",
    "l_data = await tqdm.gather(*l_data)\n",
    "\n",
    "l_data[0]"
   ]
  },
  {
   "cell_type": "code",
   "execution_count": 145,
   "id": "25188257-f0ac-470a-af74-aac94ca1c241",
   "metadata": {
    "scrolled": true
   },
   "outputs": [
    {
     "name": "stderr",
     "output_type": "stream",
     "text": [
      "100%|█████████████████████████████████████████████████████████████████████████████████████████████████████████████████████████████████████████████████████| 500/500 [00:29<00:00, 17.13it/s]\n"
     ]
    },
    {
     "data": {
      "text/plain": [
       "{'english_solution': '1. Determine the first multiple of $6$ greater than $5$. The first such multiple is $6$.\\n2. Determine the last multiple of $6$ less than $127$. By division, \\\\(\\\\frac{127}{6} \\\\approx 21.1667\\\\), so the last multiple of $6$ within the range is \\\\(21 \\\\times 6 = 126\\\\).\\n3. List the multiples of $6$ between $6$ and $126$ inclusive: $6$, $12$, $18$, $\\\\dots$, $126$.\\n4. The sequence of multiples forms an arithmetic sequence where each term increases by $6$. To find the number of terms, use the formula for the nth term of an arithmetic sequence: \\\\(a + (n-1)d\\\\), where \\\\(a\\\\) is the first term, \\\\(d\\\\) is the common difference, and \\\\(n\\\\) is the number of terms. Setting \\\\(6 + (n-1)6 = 126\\\\), we solve for \\\\(n\\\\):\\n   \\\\[\\n   6 + 6n - 6 = 126 \\\\implies 6n = 126 \\\\implies n = 21\\n   \\\\]\\n   This means there are 21 multiples of 6 between 5 and 127.\\n\\nConclusion: The number of multiples of 6 between 5 and 127 is $\\\\boxed{21}$.',\n",
       " 'translated_solution': '\\n1. Determine the first multiple of ⬛ greater than ⬛. The first such multiple is ⬛.\\n2. Determine the last multiple of ⬛ less than ⬛. By division, ⬛, so the last multiple of ⬛ within the range is ⬛.\\n3. List the multiples of ⬛ between ⬛ and ⬛ inclusive: ⬛, ⬛, ⬛, $\\\\dots$, ⬛.\\n4. The sequence of multiples forms an arithmetic sequence where each term increases by ⬛. To find the number of terms, use the formula for the nth term of an arithmetic sequence: ⬛, where ⬛ is the first term, ⬛ is the common difference, and ⬛ is the number of terms. Setting ⬛, we solve for ⬛:\\n   ⬛\\n   This means there are ⬛ multiples of ⬛ between ⬛ and ⬛.\\n\\nConclusion: The number of multiples of ⬛ between ⬛ and ⬛ is $\\\\boxed{21}$.\\n',\n",
       " 'translation_cot': '\\nI need to go through the text and identify:\\n1. Math expressions (like equations, fractions, inequalities)\\n2. Numbers (any numerical values)\\n3. Names of theorems\\n\\nLet me go through this systematically:\\n\\n1. \"Determine the first multiple of $6$ greater than $5$. The first such multiple is $6$.\"\\n   - $6$, $5$, and $6$ are numbers that need to be replaced\\n\\n2. \"Determine the last multiple of $6$ less than $127$. By division, \\\\(\\\\frac{127}{6} \\\\approx 21.1667\\\\), so the last multiple of $6$ within the range is \\\\(21 \\\\times 6 = 126\\\\).\"\\n   - $6$, $127$, \\\\(\\\\frac{127}{6} \\\\approx 21.1667\\\\), $6$, \\\\(21 \\\\times 6 = 126\\\\) are numbers/math expressions\\n\\n3. \"List the multiples of $6$ between $6$ and $126$ inclusive: $6$, $12$, $18$, $\\\\dots$, $126$.\"\\n   - $6$, $6$, $126$, $6$, $12$, $18$, $126$ are numbers\\n\\n4. The long paragraph with the arithmetic sequence explanation:\\n   - $6$ appears multiple times\\n   - The formula \\\\(a + (n-1)d\\\\) is a math expression\\n   - All the variables and numbers need to be replaced\\n   - The equation \\\\[6 + 6n - 6 = 126 \\\\implies 6n = 126 \\\\implies n = 21\\\\] is a math expression\\n   - \"21\", \"6\", \"5\", \"127\" are numbers\\n\\n5. The conclusion: \"The number of multiples of 6 between 5 and 127 is $\\\\boxed{21}$.\"\\n   - $6$, $5$, $127$ are numbers, but $\\\\boxed{21}$ should be kept as is per instructions\\n\\nI don\\'t see any theorem names in this text.\\n',\n",
       " 'reasoning': '\\nLet me analyze each criterion step by step:\\n\\n1. Number of reasoning steps:\\nReference text has 4 numbered steps plus a conclusion.\\nRewritten text has 4 numbered steps plus a conclusion.\\nBoth have the same structure and number of steps.\\n\\n2. Reasoning step content:\\nStep 1: Both determine the first multiple of a number greater than another number\\nStep 2: Both determine the last multiple less than an upper bound using division\\nStep 3: Both list the multiples in the range\\nStep 4: Both recognize it\\'s an arithmetic sequence and use the nth term formula to count terms\\nConclusion: Both state the final answer\\nThe reasoning logic is identical in each step.\\n\\n3. Numbers and mathematical expressions:\\nThe reference text contains specific numbers: 6, 5, 127, 21.1667, 21, 126, 12, 18, and mathematical expressions like equations and formulas.\\nThe rewritten text has replaced all specific numbers and mathematical expressions with black squares (⬛), except for the final boxed answer \"21\".\\nSo the mathematical content is mostly obscured/missing.\\n\\n4. Overall reasoning:\\nThe overall logical flow and methodology is identical - finding first multiple, last multiple, recognizing arithmetic sequence, using nth term formula to count terms. The reasoning structure and approach are the same, even though specific numbers are hidden.\\n',\n",
       " 'num_reasoning_steps': 'Yes',\n",
       " 'reasoning_step_content': 'Yes',\n",
       " 'same_math_expressions': 'No',\n",
       " 'overall_reasoning': 'Yes'}"
      ]
     },
     "execution_count": 145,
     "metadata": {},
     "output_type": "execute_result"
    }
   ],
   "source": [
    "async def judge_translation(row):\n",
    "    d_result = await run_prompt(f\"\"\"\n",
    "Determine if the following rewritten text satisfies the following criteria:\n",
    "\n",
    "1. Does it contain the same number of reasoning steps as the reference text? If it does, output <num_reasoning_steps>Yes</num_reasoning_steps>, otherwise output <num_reasoning_steps>No</num_reasoning_steps>\n",
    "2. Does it contain the same reasoning in each step as the reference text? If it does, output <reasoning_step_content>Yes</reasoning_step_content>, otherwise output <reasoning_step_content>No</reasoning_step_content>\n",
    "3. Does it contain the same numbers and mathematical expressions as the reference text? If it does, output <same_math_expressions>Yes</same_math_expressions>, otherwise output <same_math_expressions>No</same_math_expressions>\n",
    "4. Is the overall reasoning similar to the reference text? If it does, output <overall_reasoning>Yes</overall_reasoning>, otherwise output <overall_reasoning>No</overall_reasoning>\n",
    "\n",
    "Think step by step in <reasoning> tags before you output any of the above tags.\n",
    "\n",
    "<reference_text>{row['english_solution']}</reference_text>\n",
    "<rewritten_text>{row['translated_solution']}</rewritten_text>\n",
    "    \"\"\".strip(), [\"reasoning\", \"num_reasoning_steps\", \"reasoning_step_content\", \"same_math_expressions\", \"overall_reasoning\"])\n",
    "\n",
    "    return {\n",
    "        **row,\n",
    "        **d_result\n",
    "    }\n",
    "\n",
    "l_judge_data = []\n",
    "\n",
    "for row in l_data:\n",
    "    l_judge_data.append(judge_translation(row))\n",
    "\n",
    "l_judge_data = await tqdm.gather(*l_judge_data)\n",
    "\n",
    "l_judge_data[0]"
   ]
  },
  {
   "cell_type": "code",
   "execution_count": 146,
   "id": "49f17db8-ba5f-4eb6-a77c-1c8afa318ac0",
   "metadata": {},
   "outputs": [
    {
     "name": "stdout",
     "output_type": "stream",
     "text": [
      "----- num_reasoning_steps -----\n",
      "num_reasoning_steps\n",
      "Yes    496\n",
      "No       4\n",
      "Name: count, dtype: int64\n",
      "----- reasoning_step_content -----\n",
      "reasoning_step_content\n",
      "Yes    327\n",
      "No     173\n",
      "Name: count, dtype: int64\n",
      "----- same_math_expressions -----\n",
      "same_math_expressions\n",
      "No     497\n",
      "Yes      3\n",
      "Name: count, dtype: int64\n",
      "----- overall_reasoning -----\n",
      "overall_reasoning\n",
      "Yes    413\n",
      "No      87\n",
      "Name: count, dtype: int64\n"
     ]
    }
   ],
   "source": [
    "df_judge = pd.DataFrame(l_judge_data)\n",
    "\n",
    "for col in ['num_reasoning_steps', 'reasoning_step_content', 'same_math_expressions', 'overall_reasoning']:\n",
    "    print(f\"----- {col} -----\")\n",
    "    print(df_judge[col].value_counts())"
   ]
  },
  {
   "cell_type": "code",
   "execution_count": 151,
   "id": "d7fbd5f5-2921-4c08-b997-e54830e8b81f",
   "metadata": {
    "scrolled": true
   },
   "outputs": [
    {
     "name": "stdout",
     "output_type": "stream",
     "text": [
      "REF -----\n",
      "As given, $\\overrightarrow {a}$ is perpendicular to $\\overrightarrow {b}$, we have their dot product equal to zero:\n",
      "$$\\overrightarrow{a} \\cdot \\overrightarrow{b} = 0.$$ \n",
      "This means:\n",
      "$$(\\tan(\\theta+ \\frac{\\pi}{12}), 1) \\cdot (1, -2) = 0,$$\n",
      "which simplifies to:\n",
      "$$\\tan(\\theta+ \\frac{\\pi}{12}) \\times 1 + 1 \\times (-2) = 0.$$\n",
      "\n",
      "Solving for $\\tan(\\theta+ \\frac{\\pi}{12})$, we get:\n",
      "$$\\tan(\\theta+ \\frac{\\pi}{12}) = 2.$$\n",
      "\n",
      "Now, let's find $\\tan(2\\theta+ \\frac{\\pi}{6})$ using the double angle identity for tangent:\n",
      "$$\\tan(2\\theta+ \\frac{\\pi}{6}) = \\frac {2 \\tan(\\theta+ \\frac{\\pi}{12})}{1 - \\tan^2(\\theta + \\frac{\\pi}{12})} = \\frac{2 \\times 2}{1 - 2^2} = -\\frac{4}{3}.$$\n",
      "\n",
      "Next, to find $\\tan(2\\theta+ \\frac{5\\pi}{12})$, we use the sum of angles formula for tangent, where the sum is $\\frac{\\pi}{6} + \\frac{\\pi}{4}$:\n",
      "$$\\tan(2\\theta+ \\frac{5\\pi}{12}) = \\tan(2\\theta+ \\frac{\\pi}{6} + \\frac{\\pi}{4}) = \\frac{\\tan(2\\theta+ \\frac{\\pi}{6}) + \\tan(\\frac{\\pi}{4})}{1 - \\tan(2\\theta + \\frac{\\pi}{6})\\tan(\\frac{\\pi}{4})}.$$\n",
      "Substituting $\\tan(2\\theta+ \\frac{\\pi}{6})$ and $\\tan(\\frac{\\pi}{4}) = 1$, we get:\n",
      "$$\\tan(2\\theta+ \\frac{5\\pi}{12}) = \\frac{-\\frac{4}{3} + 1}{1 - (-\\frac{4}{3}) \\times 1} = \\frac{-\\frac{1}{3}}{1 + \\frac{4}{3}} = \\frac{-\\frac{1}{3}}{\\frac{7}{3}} = -\\frac{1}{7}.$$\n",
      "\n",
      "Therefore, the final answer is:\n",
      "$$\\boxed{-\\frac{1}{7}}.$$\n",
      "TRANSLATED -----\n",
      "\n",
      "As given, ⬛ is perpendicular to ⬛, we have their dot product equal to zero:\n",
      "⬛ \n",
      "This means:\n",
      "⬛\n",
      "which simplifies to:\n",
      "⬛\n",
      "\n",
      "Solving for ⬛, we get:\n",
      "⬛\n",
      "\n",
      "Now, let's find ⬛ using the ⬛:\n",
      "⬛\n",
      "\n",
      "Next, to find ⬛, we use the ⬛, where the sum is ⬛:\n",
      "⬛\n",
      "Substituting ⬛ and ⬛, we get:\n",
      "⬛\n",
      "\n",
      "Therefore, the final answer is:\n",
      "$$\\boxed{-\\frac{1}{7}}.$$\n",
      "\n"
     ]
    }
   ],
   "source": [
    "sample = df_judge.sample(n=5).iloc[0]\n",
    "\n",
    "print(\"REF -----\")\n",
    "print(sample['english_solution'])\n",
    "print(\"TRANSLATED -----\")\n",
    "print(sample['translated_solution'])"
   ]
  },
  {
   "cell_type": "code",
   "execution_count": null,
   "id": "c1342adc-8a4f-403c-a051-8309c0654c4e",
   "metadata": {},
   "outputs": [],
   "source": []
  },
  {
   "cell_type": "code",
   "execution_count": null,
   "id": "fde36b61-c3ee-4634-9cbf-b8fb4644b150",
   "metadata": {},
   "outputs": [],
   "source": []
  }
 ],
 "metadata": {
  "kernelspec": {
   "display_name": "Python 3 (ipykernel)",
   "language": "python",
   "name": "python3"
  },
  "language_info": {
   "codemirror_mode": {
    "name": "ipython",
    "version": 3
   },
   "file_extension": ".py",
   "mimetype": "text/x-python",
   "name": "python",
   "nbconvert_exporter": "python",
   "pygments_lexer": "ipython3",
   "version": "3.10.12"
  }
 },
 "nbformat": 4,
 "nbformat_minor": 5
}
